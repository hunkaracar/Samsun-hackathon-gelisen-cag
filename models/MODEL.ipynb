{
 "cells": [
  {
   "cell_type": "markdown",
   "metadata": {},
   "source": [
    "### IMPORT"
   ]
  },
  {
   "cell_type": "code",
   "execution_count": 1,
   "metadata": {},
   "outputs": [],
   "source": [
    "import pandas as pd\n",
    "import matplotlib.pyplot as plt\n",
    "from sklearn.model_selection import train_test_split\n",
    "import xgboost as xgb\n",
    "from sklearn.metrics import accuracy_score, f1_score\n",
    "from sklearn.preprocessing import LabelEncoder\n",
    "from imblearn.over_sampling import SMOTE\n",
    "from sklearn.linear_model import LinearRegression\n",
    "from sklearn.neighbors import KNeighborsRegressor\n",
    "from sklearn.ensemble import GradientBoostingRegressor\n",
    "from sklearn.svm import SVR\n",
    "from sklearn.metrics import mean_squared_error, r2_score, mean_absolute_error\n",
    "import tensorflow as tf\n",
    "from tensorflow.keras.models import Model\n",
    "from tensorflow.keras.layers import Input, LSTM, Dense, Attention, Concatenate, Conv1D, LayerNormalization, MultiHeadAttention, Dropout, TimeDistributed, Bidirectional, Flatten, Add, MaxPooling1D\n",
    "from keras.optimizers import Adam\n",
    "from sklearn.ensemble import RandomForestRegressor, RandomForestClassifier\n",
    "from sklearn.tree import DecisionTreeRegressor\n",
    "import numpy as np\n",
    "from sklearn.svm import SVC\n",
    "from sklearn.neighbors import KNeighborsClassifier\n",
    "from sklearn.ensemble import GradientBoostingClassifier\n",
    "from sklearn.preprocessing import StandardScaler\n",
    "from tensorflow.keras.utils import to_categorical\n"
   ]
  },
  {
   "cell_type": "markdown",
   "metadata": {},
   "source": [
    "### PARAMETRELER"
   ]
  },
  {
   "cell_type": "code",
   "execution_count": null,
   "metadata": {},
   "outputs": [],
   "source": [
    "models = {\n",
    "    \"Linear Regression\": LinearRegression(),\n",
    "    \"SVM\": KNeighborsRegressor(),\n",
    "    \"KNN\": SVR(),\n",
    "    \"GBR\": GradientBoostingRegressor()\n",
    "}"
   ]
  },
  {
   "cell_type": "markdown",
   "metadata": {},
   "source": [
    "### OKU / BİRLEŞTİR CSV"
   ]
  },
  {
   "cell_type": "code",
   "execution_count": 3,
   "metadata": {},
   "outputs": [],
   "source": [
    "data1 = pd.read_csv('C:/Users/Osman/Desktop/DOCUMENTS/Hackathon/datasets/part-00000.csv')\n",
    "data2 = pd.read_csv('C:/Users/Osman/Desktop/DOCUMENTS/Hackathon/datasets/part-00001.csv')\n",
    "data3 = pd.read_csv('C:/Users/Osman/Desktop/DOCUMENTS/Hackathon/datasets/part-00002.csv')\n",
    "data4 = pd.read_csv('C:/Users/Osman/Desktop/DOCUMENTS/Hackathon/datasets/part-00003.csv')\n",
    "data5 = pd.read_csv('C:/Users/Osman/Desktop/DOCUMENTS/Hackathon/datasets/part-00004.csv')\n",
    "data6 = pd.read_csv('C:/Users/Osman/Desktop/DOCUMENTS/Hackathon/datasets/part-00005.csv')\n",
    "data7 = pd.read_csv('C:/Users/Osman/Desktop/DOCUMENTS/Hackathon/datasets/part-00006.csv')\n",
    "data8 = pd.read_csv('C:/Users/Osman/Desktop/DOCUMENTS/Hackathon/datasets/part-00007.csv')\n",
    "data9 = pd.read_csv('C:/Users/Osman/Desktop/DOCUMENTS/Hackathon/datasets/part-00008.csv')\n",
    "data10= pd.read_csv('C:/Users/Osman/Desktop/DOCUMENTS/Hackathon/datasets/part-00009.csv')\n",
    "data11= pd.read_csv('C:/Users/Osman/Desktop/DOCUMENTS/Hackathon/datasets/part-00010.csv')\n",
    "data12= pd.read_csv('C:/Users/Osman/Desktop/DOCUMENTS/Hackathon/datasets/part-00011.csv')\n",
    "data13= pd.read_csv('C:/Users/Osman/Desktop/DOCUMENTS/Hackathon/datasets/part-00012.csv')\n",
    "data14= pd.read_csv('C:/Users/Osman/Desktop/DOCUMENTS/Hackathon/datasets/part-00014.csv')\n",
    "data15= pd.read_csv('C:/Users/Osman/Desktop/DOCUMENTS/Hackathon/datasets/part-00014.csv')\n",
    "data16= pd.read_csv('C:/Users/Osman/Desktop/DOCUMENTS/Hackathon/datasets/part-00015.csv')\n",
    "data17= pd.read_csv('C:/Users/Osman/Desktop/DOCUMENTS/Hackathon/datasets/part-00016.csv')\n",
    "data18= pd.read_csv('C:/Users/Osman/Desktop/DOCUMENTS/Hackathon/datasets/part-00017.csv')\n",
    "data19= pd.read_csv('C:/Users/Osman/Desktop/DOCUMENTS/Hackathon/datasets/part-00018.csv')\n",
    "data20= pd.read_csv('C:/Users/Osman/Desktop/DOCUMENTS/Hackathon/datasets/part-00019.csv')\n",
    "data21= pd.read_csv('C:/Users/Osman/Desktop/DOCUMENTS/Hackathon/datasets/part-00020.csv')\n",
    "data22= pd.read_csv('C:/Users/Osman/Desktop/DOCUMENTS/Hackathon/datasets/part-00021.csv')\n",
    "data23= pd.read_csv('C:/Users/Osman/Desktop/DOCUMENTS/Hackathon/datasets/part-00022.csv')\n",
    "data24= pd.read_csv('C:/Users/Osman/Desktop/DOCUMENTS/Hackathon/datasets/part-00023.csv')\n",
    "data25= pd.read_csv('C:/Users/Osman/Desktop/DOCUMENTS/Hackathon/datasets/part-00024.csv')\n",
    "data26= pd.read_csv('C:/Users/Osman/Desktop/DOCUMENTS/Hackathon/datasets/part-00025.csv')"
   ]
  },
  {
   "cell_type": "code",
   "execution_count": 4,
   "metadata": {},
   "outputs": [
    {
     "data": {
      "text/plain": [
       "47"
      ]
     },
     "execution_count": 4,
     "metadata": {},
     "output_type": "execute_result"
    }
   ],
   "source": [
    "len(data1.columns)"
   ]
  },
  {
   "cell_type": "code",
   "execution_count": 5,
   "metadata": {},
   "outputs": [
    {
     "data": {
      "text/plain": [
       "Index(['flow_duration', 'Header_Length', 'Protocol Type', 'Duration', 'Rate',\n",
       "       'Srate', 'Drate', 'fin_flag_number', 'syn_flag_number',\n",
       "       'rst_flag_number', 'psh_flag_number', 'ack_flag_number',\n",
       "       'ece_flag_number', 'cwr_flag_number', 'ack_count', 'syn_count',\n",
       "       'fin_count', 'urg_count', 'rst_count', 'HTTP', 'HTTPS', 'DNS', 'Telnet',\n",
       "       'SMTP', 'SSH', 'IRC', 'TCP', 'UDP', 'DHCP', 'ARP', 'ICMP', 'IPv', 'LLC',\n",
       "       'Tot sum', 'Min', 'Max', 'AVG', 'Std', 'Tot size', 'IAT', 'Number',\n",
       "       'Magnitue', 'Radius', 'Covariance', 'Variance', 'Weight', 'label'],\n",
       "      dtype='object')"
      ]
     },
     "execution_count": 5,
     "metadata": {},
     "output_type": "execute_result"
    }
   ],
   "source": [
    "data1['label']\n",
    "data1.columns"
   ]
  },
  {
   "cell_type": "code",
   "execution_count": 6,
   "metadata": {},
   "outputs": [
    {
     "name": "stdout",
     "output_type": "stream",
     "text": [
      "data1: (238687, 47)\n",
      "data2: (218805, 47)\n",
      "data3: (275258, 47)\n",
      "data4: (231023, 47)\n"
     ]
    }
   ],
   "source": [
    "print(\"data1:\",data1.shape)\n",
    "print(\"data2:\",data2.shape)\n",
    "print(\"data3:\",data3.shape)\n",
    "print(\"data4:\",data4.shape)"
   ]
  },
  {
   "cell_type": "code",
   "execution_count": 7,
   "metadata": {},
   "outputs": [],
   "source": [
    "dataframes = [data1, data2, data3, data4]\n",
    "dataset1 = pd.concat(dataframes, ignore_index=True)\n",
    "dataset = dataset1.copy()"
   ]
  },
  {
   "cell_type": "code",
   "execution_count": 8,
   "metadata": {},
   "outputs": [
    {
     "data": {
      "text/plain": [
       "label\n",
       "DDoS-ICMP_Flood            148212\n",
       "DDoS-UDP_Flood             111514\n",
       "DDoS-TCP_Flood              93138\n",
       "DDoS-PSHACK_Flood           84881\n",
       "DDoS-SYN_Flood              84236\n",
       "DDoS-RSTFINFlood            83513\n",
       "DDoS-SynonymousIP_Flood     74167\n",
       "DoS-UDP_Flood               68579\n",
       "DoS-TCP_Flood               54990\n",
       "DoS-SYN_Flood               41558\n",
       "BenignTraffic               22484\n",
       "Mirai-greeth_flood          20319\n",
       "Mirai-udpplain              18584\n",
       "Mirai-greip_flood           15599\n",
       "DDoS-ICMP_Fragmentation      9412\n",
       "MITM-ArpSpoofing             6415\n",
       "DDoS-ACK_Fragmentation       5917\n",
       "DDoS-UDP_Fragmentation       5890\n",
       "DNS_Spoofing                 3694\n",
       "Recon-HostDiscovery          2770\n",
       "Recon-OSScan                 2050\n",
       "Recon-PortScan               1706\n",
       "DoS-HTTP_Flood               1552\n",
       "VulnerabilityScan             745\n",
       "DDoS-HTTP_Flood               568\n",
       "DDoS-SlowLoris                445\n",
       "DictionaryBruteForce          300\n",
       "BrowserHijacking              131\n",
       "SqlInjection                  113\n",
       "CommandInjection              100\n",
       "Backdoor_Malware               68\n",
       "XSS                            65\n",
       "Recon-PingSweep                37\n",
       "Uploading_Attack               21\n",
       "Name: count, dtype: int64"
      ]
     },
     "execution_count": 8,
     "metadata": {},
     "output_type": "execute_result"
    }
   ],
   "source": [
    "dataset['label'].value_counts(dropna=False)"
   ]
  },
  {
   "cell_type": "code",
   "execution_count": 9,
   "metadata": {},
   "outputs": [
    {
     "name": "stdout",
     "output_type": "stream",
     "text": [
      "Eleman sayısı 50 binden küçük olan etiketler: ['DoS-SYN_Flood', 'BenignTraffic', 'Mirai-greeth_flood', 'Mirai-udpplain', 'Mirai-greip_flood', 'DDoS-ICMP_Fragmentation', 'MITM-ArpSpoofing', 'DDoS-ACK_Fragmentation', 'DDoS-UDP_Fragmentation', 'DNS_Spoofing', 'Recon-HostDiscovery', 'Recon-OSScan', 'Recon-PortScan', 'DoS-HTTP_Flood', 'VulnerabilityScan', 'DDoS-HTTP_Flood', 'DDoS-SlowLoris', 'DictionaryBruteForce', 'BrowserHijacking', 'SqlInjection', 'CommandInjection', 'Backdoor_Malware', 'XSS', 'Recon-PingSweep', 'Uploading_Attack']\n"
     ]
    }
   ],
   "source": [
    "etiket_sayilari = dataset['label'].value_counts()\n",
    "etiket_sayilari_kucuk_50k = etiket_sayilari[etiket_sayilari < 50000].index.tolist()\n",
    "print(\"Eleman sayısı 50 binden küçük olan etiketler:\", etiket_sayilari_kucuk_50k)"
   ]
  },
  {
   "cell_type": "code",
   "execution_count": 10,
   "metadata": {},
   "outputs": [],
   "source": [
    "satirlar_eklenecek = data2[data2['label'].isin(etiket_sayilari_kucuk_50k)]\n",
    "dataset = pd.concat([dataset, satirlar_eklenecek], ignore_index=True)\n",
    "\n",
    "satirlar_eklenecek = data5[data5['label'].isin(etiket_sayilari_kucuk_50k)]\n",
    "dataset = pd.concat([dataset, satirlar_eklenecek], ignore_index=True)\n",
    "\n",
    "satirlar_eklenecek = data6[data6['label'].isin(etiket_sayilari_kucuk_50k)]\n",
    "dataset = pd.concat([dataset, satirlar_eklenecek], ignore_index=True)\n",
    "\n",
    "satirlar_eklenecek = data7[data7['label'].isin(etiket_sayilari_kucuk_50k)]\n",
    "dataset = pd.concat([dataset, satirlar_eklenecek], ignore_index=True)\n",
    "\n",
    "satirlar_eklenecek = data8[data8['label'].isin(etiket_sayilari_kucuk_50k)]\n",
    "dataset = pd.concat([dataset, satirlar_eklenecek], ignore_index=True)\n",
    "\n",
    "satirlar_eklenecek = data9[data9['label'].isin(etiket_sayilari_kucuk_50k)]\n",
    "dataset = pd.concat([dataset, satirlar_eklenecek], ignore_index=True)\n",
    "\n",
    "satirlar_eklenecek = data10[data10['label'].isin(etiket_sayilari_kucuk_50k)]\n",
    "dataset = pd.concat([dataset, satirlar_eklenecek], ignore_index=True)\n",
    "\n",
    "satirlar_eklenecek = data11[data11['label'].isin(etiket_sayilari_kucuk_50k)]\n",
    "dataset = pd.concat([dataset, satirlar_eklenecek], ignore_index=True)\n",
    "\n",
    "satirlar_eklenecek = data12[data12['label'].isin(etiket_sayilari_kucuk_50k)]\n",
    "dataset = pd.concat([dataset, satirlar_eklenecek], ignore_index=True)\n",
    "\n",
    "satirlar_eklenecek = data13[data13['label'].isin(etiket_sayilari_kucuk_50k)]\n",
    "dataset = pd.concat([dataset, satirlar_eklenecek], ignore_index=True)\n",
    "\n",
    "satirlar_eklenecek = data14[data14['label'].isin(etiket_sayilari_kucuk_50k)]\n",
    "dataset = pd.concat([dataset, satirlar_eklenecek], ignore_index=True)\n",
    "\n",
    "satirlar_eklenecek = data15[data15['label'].isin(etiket_sayilari_kucuk_50k)]\n",
    "dataset = pd.concat([dataset, satirlar_eklenecek], ignore_index=True)\n",
    "\n",
    "satirlar_eklenecek = data16[data16['label'].isin(etiket_sayilari_kucuk_50k)]\n",
    "dataset = pd.concat([dataset, satirlar_eklenecek], ignore_index=True)\n",
    "\n",
    "satirlar_eklenecek = data17[data17['label'].isin(etiket_sayilari_kucuk_50k)]\n",
    "dataset = pd.concat([dataset, satirlar_eklenecek], ignore_index=True)\n",
    "\n",
    "satirlar_eklenecek = data18[data18['label'].isin(etiket_sayilari_kucuk_50k)]\n",
    "dataset = pd.concat([dataset, satirlar_eklenecek], ignore_index=True)\n",
    "\n",
    "satirlar_eklenecek = data19[data19['label'].isin(etiket_sayilari_kucuk_50k)]\n",
    "dataset = pd.concat([dataset, satirlar_eklenecek], ignore_index=True)\n",
    "\n",
    "satirlar_eklenecek = data20[data20['label'].isin(etiket_sayilari_kucuk_50k)]\n",
    "dataset = pd.concat([dataset, satirlar_eklenecek], ignore_index=True)\n",
    "\n",
    "satirlar_eklenecek = data21[data21['label'].isin(etiket_sayilari_kucuk_50k)]\n",
    "dataset = pd.concat([dataset, satirlar_eklenecek], ignore_index=True)\n",
    "\n",
    "satirlar_eklenecek = data22[data22['label'].isin(etiket_sayilari_kucuk_50k)]\n",
    "dataset = pd.concat([dataset, satirlar_eklenecek], ignore_index=True)\n",
    "\n",
    "satirlar_eklenecek = data23[data23['label'].isin(etiket_sayilari_kucuk_50k)]\n",
    "dataset = pd.concat([dataset, satirlar_eklenecek], ignore_index=True)\n",
    "\n",
    "satirlar_eklenecek = data24[data24['label'].isin(etiket_sayilari_kucuk_50k)]\n",
    "dataset = pd.concat([dataset, satirlar_eklenecek], ignore_index=True)\n",
    "\n",
    "satirlar_eklenecek = data25[data25['label'].isin(etiket_sayilari_kucuk_50k)]\n",
    "dataset = pd.concat([dataset, satirlar_eklenecek], ignore_index=True)\n",
    "\n",
    "satirlar_eklenecek = data26[data26['label'].isin(etiket_sayilari_kucuk_50k)]\n",
    "dataset = pd.concat([dataset, satirlar_eklenecek], ignore_index=True)"
   ]
  },
  {
   "cell_type": "code",
   "execution_count": 11,
   "metadata": {},
   "outputs": [
    {
     "data": {
      "text/plain": [
       "label\n",
       "DoS-SYN_Flood              284016\n",
       "BenignTraffic              154483\n",
       "DDoS-ICMP_Flood            148212\n",
       "Mirai-greeth_flood         138914\n",
       "Mirai-udpplain             125377\n",
       "DDoS-UDP_Flood             111514\n",
       "Mirai-greip_flood          106338\n",
       "DDoS-TCP_Flood              93138\n",
       "DDoS-PSHACK_Flood           84881\n",
       "DDoS-SYN_Flood              84236\n",
       "DDoS-RSTFINFlood            83513\n",
       "DDoS-SynonymousIP_Flood     74167\n",
       "DoS-UDP_Flood               68579\n",
       "DDoS-ICMP_Fragmentation     63614\n",
       "DoS-TCP_Flood               54990\n",
       "MITM-ArpSpoofing            43481\n",
       "DDoS-UDP_Fragmentation      40794\n",
       "DDoS-ACK_Fragmentation      40246\n",
       "DNS_Spoofing                25268\n",
       "Recon-HostDiscovery         18851\n",
       "Recon-OSScan                13803\n",
       "Recon-PortScan              11604\n",
       "DoS-HTTP_Flood              10091\n",
       "VulnerabilityScan            5249\n",
       "DDoS-HTTP_Flood              4037\n",
       "DDoS-SlowLoris               3348\n",
       "DictionaryBruteForce         1784\n",
       "BrowserHijacking              781\n",
       "SqlInjection                  746\n",
       "CommandInjection              729\n",
       "XSS                           520\n",
       "Backdoor_Malware              498\n",
       "Recon-PingSweep               293\n",
       "Uploading_Attack              178\n",
       "Name: count, dtype: int64"
      ]
     },
     "execution_count": 11,
     "metadata": {},
     "output_type": "execute_result"
    }
   ],
   "source": [
    "dataset['label'].value_counts(dropna=False)"
   ]
  },
  {
   "cell_type": "markdown",
   "metadata": {},
   "source": [
    "### VERİ ANALİZİ"
   ]
  },
  {
   "cell_type": "code",
   "execution_count": 12,
   "metadata": {},
   "outputs": [
    {
     "data": {
      "image/png": "[encoded data removed]",
      "text/plain": [
       "<Figure size 1500x200 with 1 Axes>"
      ]
     },
     "metadata": {},
     "output_type": "display_data"
    }
   ],
   "source": [
    "\n",
    "etiket_veri_sayisi = dataset['label'].value_counts(dropna=False)\n",
    "\n",
    "plt.figure(figsize=(15, 2))  \n",
    "etiket_veri_sayisi.plot(kind='bar')\n",
    "\n",
    "plt.xlabel('Etiket')\n",
    "plt.ylabel('Sayi')\n",
    "plt.title('veri kümesindeki her etiketin sayisi nan da dahil')\n",
    "plt.show()"
   ]
  },
  {
   "cell_type": "code",
   "execution_count": 13,
   "metadata": {},
   "outputs": [
    {
     "name": "stdout",
     "output_type": "stream",
     "text": [
      "label\n",
      "DDoS-TCP_Flood             93138\n",
      "DDoS-PSHACK_Flood          84881\n",
      "DDoS-SYN_Flood             84236\n",
      "DDoS-RSTFINFlood           83513\n",
      "Mirai-greip_flood          80000\n",
      "DDoS-ICMP_Flood            80000\n",
      "DoS-SYN_Flood              80000\n",
      "Mirai-greeth_flood         80000\n",
      "Mirai-udpplain             80000\n",
      "DDoS-UDP_Flood             80000\n",
      "BenignTraffic              80000\n",
      "DDoS-SynonymousIP_Flood    74167\n",
      "DoS-UDP_Flood              68579\n",
      "DDoS-ICMP_Fragmentation    63614\n",
      "DoS-TCP_Flood              54990\n",
      "MITM-ArpSpoofing           43481\n",
      "DDoS-UDP_Fragmentation     40794\n",
      "DDoS-ACK_Fragmentation     40246\n",
      "DNS_Spoofing               25268\n",
      "Recon-HostDiscovery        18851\n",
      "Recon-OSScan               13803\n",
      "Recon-PortScan             11604\n",
      "DoS-HTTP_Flood             10091\n",
      "VulnerabilityScan           5249\n",
      "DDoS-HTTP_Flood             4037\n",
      "DDoS-SlowLoris              3348\n",
      "DictionaryBruteForce        1784\n",
      "BrowserHijacking             781\n",
      "SqlInjection                 746\n",
      "CommandInjection             729\n",
      "XSS                          520\n",
      "Backdoor_Malware             498\n",
      "Recon-PingSweep              293\n",
      "Uploading_Attack             178\n",
      "Name: count, dtype: int64\n"
     ]
    }
   ],
   "source": [
    "labels_to_balance =  [\"DoS-SYN_Flood\",\n",
    "    \"BenignTraffic\",\n",
    "    \"DDoS-ICMP_Flood\" ,\n",
    "    \"Mirai-greeth_flood\",\n",
    "    \"Mirai-udpplain\",\n",
    "    \"DDoS-UDP_Flood\",\n",
    "    \"Mirai-greip_flood\"]\n",
    "\n",
    "\n",
    "\n",
    "balanced_dataset = pd.concat([dataset[dataset['label'] == label].sample(80000, replace=True) if label in labels_to_balance else dataset[dataset['label'] == label] for label in dataset['label'].unique()])\n",
    "\n",
    "balanced_dataset.reset_index(drop=True, inplace=True)\n",
    "print(balanced_dataset['label'].value_counts())             \n",
    "          \n",
    "dataset=balanced_dataset.copy()"
   ]
  },
  {
   "cell_type": "code",
   "execution_count": 14,
   "metadata": {},
   "outputs": [
    {
     "data": {
      "text/plain": [
       "(1389419, 47)"
      ]
     },
     "execution_count": 14,
     "metadata": {},
     "output_type": "execute_result"
    }
   ],
   "source": [
    "dataset['label'].unique()\n",
    "\n",
    "dataset.shape"
   ]
  },
  {
   "cell_type": "code",
   "execution_count": 15,
   "metadata": {},
   "outputs": [
    {
     "name": "stdout",
     "output_type": "stream",
     "text": [
      "Sütunların veri tipleri:\n",
      "flow_duration      float64\n",
      "Header_Length      float64\n",
      "Protocol Type      float64\n",
      "Duration           float64\n",
      "Rate               float64\n",
      "Srate              float64\n",
      "Drate              float64\n",
      "fin_flag_number    float64\n",
      "syn_flag_number    float64\n",
      "rst_flag_number    float64\n",
      "psh_flag_number    float64\n",
      "ack_flag_number    float64\n",
      "ece_flag_number    float64\n",
      "cwr_flag_number    float64\n",
      "ack_count          float64\n",
      "syn_count          float64\n",
      "fin_count          float64\n",
      "urg_count          float64\n",
      "rst_count          float64\n",
      "HTTP               float64\n",
      "HTTPS              float64\n",
      "DNS                float64\n",
      "Telnet             float64\n",
      "SMTP               float64\n",
      "SSH                float64\n",
      "IRC                float64\n",
      "TCP                float64\n",
      "UDP                float64\n",
      "DHCP               float64\n",
      "ARP                float64\n",
      "ICMP               float64\n",
      "IPv                float64\n",
      "LLC                float64\n",
      "Tot sum            float64\n",
      "Min                float64\n",
      "Max                float64\n",
      "AVG                float64\n",
      "Std                float64\n",
      "Tot size           float64\n",
      "IAT                float64\n",
      "Number             float64\n",
      "Magnitue           float64\n",
      "Radius             float64\n",
      "Covariance         float64\n",
      "Variance           float64\n",
      "Weight             float64\n",
      "label               object\n",
      "dtype: object\n",
      "\n",
      "Veri tiplerine göre sütun sayıları:\n",
      "float64    46\n",
      "object      1\n",
      "Name: count, dtype: int64\n"
     ]
    }
   ],
   "source": [
    "print(\"Sütunların veri tipleri:\")\n",
    "print(dataset.dtypes)\n",
    "\n",
    "veri_tipi_sayilari = dataset.dtypes.value_counts()\n",
    "\n",
    "print(\"\\nVeri tiplerine göre sütun sayıları:\")\n",
    "print(veri_tipi_sayilari)"
   ]
  },
  {
   "cell_type": "code",
   "execution_count": 16,
   "metadata": {},
   "outputs": [
    {
     "name": "stdout",
     "output_type": "stream",
     "text": [
      "fin_flag_number sütunundaki benzersiz eleman sayısı: 2\n",
      "syn_flag_number sütunundaki benzersiz eleman sayısı: 2\n",
      "rst_flag_number sütunundaki benzersiz eleman sayısı: 2\n",
      "psh_flag_number sütunundaki benzersiz eleman sayısı: 2\n",
      "ack_flag_number sütunundaki benzersiz eleman sayısı: 2\n",
      "ece_flag_number sütunundaki benzersiz eleman sayısı: 2\n",
      "cwr_flag_number sütunundaki benzersiz eleman sayısı: 2\n",
      "HTTP sütunundaki benzersiz eleman sayısı: 2\n",
      "HTTPS sütunundaki benzersiz eleman sayısı: 2\n",
      "DNS sütunundaki benzersiz eleman sayısı: 2\n",
      "Telnet sütunundaki benzersiz eleman sayısı: 1\n",
      "SMTP sütunundaki benzersiz eleman sayısı: 1\n",
      "SSH sütunundaki benzersiz eleman sayısı: 2\n",
      "IRC sütunundaki benzersiz eleman sayısı: 1\n",
      "TCP sütunundaki benzersiz eleman sayısı: 2\n",
      "UDP sütunundaki benzersiz eleman sayısı: 2\n",
      "DHCP sütunundaki benzersiz eleman sayısı: 2\n",
      "ARP sütunundaki benzersiz eleman sayısı: 2\n",
      "ICMP sütunundaki benzersiz eleman sayısı: 2\n",
      "IPv sütunundaki benzersiz eleman sayısı: 2\n",
      "LLC sütunundaki benzersiz eleman sayısı: 2\n"
     ]
    }
   ],
   "source": [
    "def kategorik_sutunlari_bul(dataframe, eşik_değer=10):\n",
    "\n",
    "    kategorik_sutunlar = []\n",
    "    for sutun in dataframe.columns:\n",
    "        if dataframe[sutun].nunique() <= eşik_değer:\n",
    "            print(sutun + \" sütunundaki benzersiz eleman sayısı:\", dataframe[sutun].nunique())\n",
    "            kategorik_sutunlar.append(sutun)\n",
    "    kategorik_sutunlar.append('label')\n",
    "    return kategorik_sutunlar\n",
    "\n",
    "kategorik_sutunlar = kategorik_sutunlari_bul(dataset)\n",
    "\n",
    "dataset[kategorik_sutunlar] = dataset[kategorik_sutunlar].astype('category')\n"
   ]
  },
  {
   "cell_type": "code",
   "execution_count": 17,
   "metadata": {},
   "outputs": [
    {
     "data": {
      "text/plain": [
       "0"
      ]
     },
     "execution_count": 17,
     "metadata": {},
     "output_type": "execute_result"
    }
   ],
   "source": [
    "bos_elemanlar = dataset.isnull().sum().sum()\n",
    "bos_elemanlar\n"
   ]
  },
  {
   "cell_type": "code",
   "execution_count": 18,
   "metadata": {},
   "outputs": [],
   "source": [
    "dataset.shape\n",
    "datasetnew= dataset.copy()"
   ]
  },
  {
   "cell_type": "code",
   "execution_count": 19,
   "metadata": {},
   "outputs": [],
   "source": [
    "etiket_sayilari = datasetnew['label'].value_counts()\n",
    "etiket_sayilari_kucuk_14k = etiket_sayilari[etiket_sayilari < 14000].index.tolist()"
   ]
  },
  {
   "cell_type": "code",
   "execution_count": 20,
   "metadata": {},
   "outputs": [
    {
     "name": "stdout",
     "output_type": "stream",
     "text": [
      "(1550402, 47)\n"
     ]
    }
   ],
   "source": [
    "import pandas as pd\n",
    "\n",
    "\n",
    "label_column = 'label'\n",
    "new_data = []\n",
    "\n",
    "for label in etiket_sayilari_kucuk_14k:\n",
    "    subset = datasetnew[datasetnew[label_column] == label]\n",
    "    \n",
    "    new_data.append(subset)\n",
    "    new_data.append(subset)\n",
    "    new_data.append(subset)\n",
    "\n",
    "\n",
    "new_data.append(balanced_dataset)\n",
    "balanced_dataset_expanded = pd.concat(new_data, ignore_index=True)\n",
    "\n",
    "print(balanced_dataset_expanded.shape)\n",
    "\n",
    "\n",
    "\n"
   ]
  },
  {
   "cell_type": "code",
   "execution_count": 21,
   "metadata": {},
   "outputs": [
    {
     "data": {
      "text/plain": [
       "label\n",
       "DDoS-TCP_Flood             93138\n",
       "DDoS-PSHACK_Flood          84881\n",
       "DDoS-SYN_Flood             84236\n",
       "DDoS-RSTFINFlood           83513\n",
       "Mirai-greip_flood          80000\n",
       "BenignTraffic              80000\n",
       "DDoS-UDP_Flood             80000\n",
       "Mirai-udpplain             80000\n",
       "Mirai-greeth_flood         80000\n",
       "DoS-SYN_Flood              80000\n",
       "DDoS-ICMP_Flood            80000\n",
       "DDoS-SynonymousIP_Flood    74167\n",
       "DoS-UDP_Flood              68579\n",
       "DDoS-ICMP_Fragmentation    63614\n",
       "Recon-OSScan               55212\n",
       "DoS-TCP_Flood              54990\n",
       "Recon-PortScan             46416\n",
       "MITM-ArpSpoofing           43481\n",
       "DDoS-UDP_Fragmentation     40794\n",
       "DoS-HTTP_Flood             40364\n",
       "DDoS-ACK_Fragmentation     40246\n",
       "DNS_Spoofing               25268\n",
       "VulnerabilityScan          20996\n",
       "Recon-HostDiscovery        18851\n",
       "DDoS-HTTP_Flood            16148\n",
       "DDoS-SlowLoris             13392\n",
       "DictionaryBruteForce        7136\n",
       "BrowserHijacking            3124\n",
       "SqlInjection                2984\n",
       "CommandInjection            2916\n",
       "XSS                         2080\n",
       "Backdoor_Malware            1992\n",
       "Recon-PingSweep             1172\n",
       "Uploading_Attack             712\n",
       "Name: count, dtype: int64"
      ]
     },
     "execution_count": 21,
     "metadata": {},
     "output_type": "execute_result"
    }
   ],
   "source": [
    "balanced_dataset_expanded[\"label\"].value_counts()"
   ]
  },
  {
   "cell_type": "code",
   "execution_count": 22,
   "metadata": {},
   "outputs": [
    {
     "data": {
      "text/plain": [
       "(1550402, 47)"
      ]
     },
     "execution_count": 22,
     "metadata": {},
     "output_type": "execute_result"
    }
   ],
   "source": [
    "balanced_dataset_expanded.shape"
   ]
  },
  {
   "cell_type": "code",
   "execution_count": 23,
   "metadata": {},
   "outputs": [],
   "source": [
    "columns_to_drop = [ \n",
    "    'BrowserHijacking', \n",
    "    'SqlInjection', \n",
    "    'CommandInjection', \n",
    "    'XSS', \n",
    "    'Backdoor_Malware', \n",
    "    'Recon-PingSweep', \n",
    "    'Uploading_Attack'\n",
    "]\n",
    "\n",
    "condition = ~balanced_dataset_expanded['label'].isin(columns_to_drop)\n",
    "\n",
    "df = balanced_dataset_expanded[condition]\n"
   ]
  },
  {
   "cell_type": "code",
   "execution_count": 24,
   "metadata": {},
   "outputs": [
    {
     "data": {
      "text/plain": [
       "label\n",
       "DDoS-TCP_Flood             93138\n",
       "DDoS-PSHACK_Flood          84881\n",
       "DDoS-SYN_Flood             84236\n",
       "DDoS-RSTFINFlood           83513\n",
       "Mirai-udpplain             80000\n",
       "Mirai-greip_flood          80000\n",
       "BenignTraffic              80000\n",
       "DDoS-UDP_Flood             80000\n",
       "DDoS-ICMP_Flood            80000\n",
       "DoS-SYN_Flood              80000\n",
       "Mirai-greeth_flood         80000\n",
       "DDoS-SynonymousIP_Flood    74167\n",
       "DoS-UDP_Flood              68579\n",
       "DDoS-ICMP_Fragmentation    63614\n",
       "Recon-OSScan               55212\n",
       "DoS-TCP_Flood              54990\n",
       "Recon-PortScan             46416\n",
       "MITM-ArpSpoofing           43481\n",
       "DDoS-UDP_Fragmentation     40794\n",
       "DoS-HTTP_Flood             40364\n",
       "DDoS-ACK_Fragmentation     40246\n",
       "DNS_Spoofing               25268\n",
       "VulnerabilityScan          20996\n",
       "Recon-HostDiscovery        18851\n",
       "DDoS-HTTP_Flood            16148\n",
       "DDoS-SlowLoris             13392\n",
       "DictionaryBruteForce        7136\n",
       "Name: count, dtype: int64"
      ]
     },
     "execution_count": 24,
     "metadata": {},
     "output_type": "execute_result"
    }
   ],
   "source": [
    "df['label'].value_counts(dropna=False)"
   ]
  },
  {
   "cell_type": "markdown",
   "metadata": {},
   "source": [
    "### özellik şecimi"
   ]
  },
  {
   "cell_type": "code",
   "execution_count": 25,
   "metadata": {},
   "outputs": [],
   "source": [
    "df1 = df.copy()"
   ]
  },
  {
   "cell_type": "code",
   "execution_count": 31,
   "metadata": {},
   "outputs": [],
   "source": [
    "import pandas as pd\n",
    "import xgboost as xgb\n",
    "from sklearn.feature_selection import RFE\n",
    "from sklearn.model_selection import train_test_split\n",
    "from sklearn.preprocessing import LabelEncoder\n",
    "\n",
    "X = df1.drop('label', axis=1)\n",
    "y = df1['label']\n",
    "\n",
    "X = pd.get_dummies(X)\n",
    "le = LabelEncoder()\n",
    "y = le.fit_transform(y)\n",
    "\n",
    "\n",
    "X_train, X_test, y_train, y_test = train_test_split(X, y, test_size=0.2, random_state=42)\n",
    "\n",
    "model = xgb.XGBClassifier(use_label_encoder=False, eval_metric='logloss')\n",
    "\n",
    "rfe = RFE(estimator=model, n_features_to_select=1, step=1)\n",
    "\n",
    "rfe.fit(X_train, y_train)\n",
    "\n",
    "ranking = rfe.ranking_\n",
    "\n",
    "model.fit(X_train, y_train)\n",
    "importances = model.feature_importances_\n",
    "\n",
    "features = pd.DataFrame({\n",
    "    'Feature': X.columns,\n",
    "    'Ranking': ranking,\n",
    "    'Importance': importances\n",
    "})\n",
    "\n",
    "features = features.sort_values(by='Ranking')\n",
    "\n",
    "features.to_csv('feature_importances_rfe.csv', index=False)\n"
   ]
  },
  {
   "cell_type": "code",
   "execution_count": 26,
   "metadata": {},
   "outputs": [],
   "source": [
    "sutunlar_kaldir = [\n",
    "    'Duration', 'Max', 'Variance', 'Covariance', 'TCP', 'AVG', 'DNS', \n",
    "    'ack_flag_number', 'Std', 'IPv', 'Radius', 'ARP', 'ece_flag_number', \n",
    "    'IRC', 'cwr_flag_number', 'Drate', 'Srate', 'DHCP', 'LLC', 'SMTP', \n",
    "    'Telnet'\n",
    "]\n",
    "\n",
    "df1.drop(columns=sutunlar_kaldir, inplace=True)\n"
   ]
  },
  {
   "cell_type": "code",
   "execution_count": 28,
   "metadata": {},
   "outputs": [
    {
     "data": {
      "text/plain": [
       "(1535422, 26)"
      ]
     },
     "execution_count": 28,
     "metadata": {},
     "output_type": "execute_result"
    }
   ],
   "source": [
    "df1.shape"
   ]
  },
  {
   "cell_type": "code",
   "execution_count": 31,
   "metadata": {},
   "outputs": [
    {
     "data": {
      "text/plain": [
       "label\n",
       "DDoS-TCP_Flood             93138\n",
       "DDoS-PSHACK_Flood          84881\n",
       "DDoS-SYN_Flood             84236\n",
       "DDoS-RSTFINFlood           83513\n",
       "Mirai-udpplain             80000\n",
       "Mirai-greip_flood          80000\n",
       "BenignTraffic              80000\n",
       "DDoS-UDP_Flood             80000\n",
       "DDoS-ICMP_Flood            80000\n",
       "DoS-SYN_Flood              80000\n",
       "Mirai-greeth_flood         80000\n",
       "DDoS-SynonymousIP_Flood    74167\n",
       "DoS-UDP_Flood              68579\n",
       "DDoS-ICMP_Fragmentation    63614\n",
       "Recon-OSScan               55212\n",
       "DoS-TCP_Flood              54990\n",
       "Recon-PortScan             46416\n",
       "MITM-ArpSpoofing           43481\n",
       "DDoS-UDP_Fragmentation     40794\n",
       "DoS-HTTP_Flood             40364\n",
       "DDoS-ACK_Fragmentation     40246\n",
       "DNS_Spoofing               25268\n",
       "VulnerabilityScan          20996\n",
       "Recon-HostDiscovery        18851\n",
       "DDoS-HTTP_Flood            16148\n",
       "DDoS-SlowLoris             13392\n",
       "DictionaryBruteForce        7136\n",
       "Name: count, dtype: int64"
      ]
     },
     "execution_count": 31,
     "metadata": {},
     "output_type": "execute_result"
    }
   ],
   "source": [
    "df1['label'].value_counts(dropna=False)"
   ]
  },
  {
   "cell_type": "code",
   "execution_count": 38,
   "metadata": {},
   "outputs": [
    {
     "data": {
      "text/plain": [
       "'DDoS-TCP_Flood'"
      ]
     },
     "execution_count": 38,
     "metadata": {},
     "output_type": "execute_result"
    }
   ],
   "source": [
    "attacks = [\n",
    "    \"DDoS-TCP_Flood\",\n",
    "    \"DDoS-PSHACK_Flood\",\n",
    "    \"DDoS-SYN_Flood\",\n",
    "    \"DDoS-RSTFINFlood\",\n",
    "    \"Mirai-udpplain\",\n",
    "    \"Mirai-greip_flood\",\n",
    "    \"BenignTraffic\",\n",
    "    \"DDoS-UDP_Flood\",\n",
    "    \"DDoS-ICMP_Flood\",\n",
    "    \"DoS-SYN_Flood\",\n",
    "    \"Mirai-greeth_flood\",\n",
    "    \"DDoS-SynonymousIP_Flood\",\n",
    "    \"DoS-UDP_Flood\",\n",
    "    \"DDoS-ICMP_Fragmentation\",\n",
    "    \"Recon-OSScan\",\n",
    "    \"DoS-TCP_Flood\",\n",
    "    \"Recon-PortScan\",\n",
    "    \"MITM-ArpSpoofing\",\n",
    "    \"DDoS-UDP_Fragmentation\",\n",
    "    \"DoS-HTTP_Flood\",\n",
    "    \"DDoS-ACK_Fragmentation\",\n",
    "    \"DNS_Spoofing\",\n",
    "    \"VulnerabilityScan\",\n",
    "    \"Recon-HostDiscovery\",\n",
    "    \"DDoS-HTTP_Flood\",\n",
    "    \"DDoS-SlowLoris\",\n",
    "    \"DictionaryBruteForce\"\n",
    "]\n",
    "attacks[0]"
   ]
  },
  {
   "cell_type": "markdown",
   "metadata": {},
   "source": [
    "### XGBOOST"
   ]
  },
  {
   "cell_type": "code",
   "execution_count": 33,
   "metadata": {},
   "outputs": [
    {
     "name": "stdout",
     "output_type": "stream",
     "text": [
      "fin_flag_number sütunundaki benzersiz eleman sayısı: 2\n",
      "syn_flag_number sütunundaki benzersiz eleman sayısı: 2\n",
      "rst_flag_number sütunundaki benzersiz eleman sayısı: 2\n",
      "psh_flag_number sütunundaki benzersiz eleman sayısı: 2\n",
      "HTTP sütunundaki benzersiz eleman sayısı: 2\n",
      "HTTPS sütunundaki benzersiz eleman sayısı: 2\n",
      "SSH sütunundaki benzersiz eleman sayısı: 2\n",
      "UDP sütunundaki benzersiz eleman sayısı: 2\n",
      "ICMP sütunundaki benzersiz eleman sayısı: 2\n"
     ]
    }
   ],
   "source": [
    "def kategorik_sutunlari_bul(dataframe, eşik_değer=10):\n",
    "\n",
    "    kategorik_sutunlar = []\n",
    "    for sutun in dataframe.columns:\n",
    "        if dataframe[sutun].nunique() <= eşik_değer:\n",
    "            print(sutun + \" sütunundaki benzersiz eleman sayısı:\", dataframe[sutun].nunique())\n",
    "            kategorik_sutunlar.append(sutun)\n",
    "    kategorik_sutunlar.append('label')\n",
    "    return kategorik_sutunlar\n",
    "\n",
    "kategorik_sutunlar = kategorik_sutunlari_bul(df1)\n",
    "\n",
    "dataset[kategorik_sutunlar] = dataset[kategorik_sutunlar].astype('category')"
   ]
  },
  {
   "cell_type": "code",
   "execution_count": 34,
   "metadata": {},
   "outputs": [],
   "source": [
    "from sklearn.preprocessing import LabelEncoder\n",
    "\n",
    "X = df1.drop(\"label\", axis=1)\n",
    "y = df1['label']\n",
    "\n",
    "label_encoder = LabelEncoder()\n",
    "\n",
    "y_encoded = label_encoder.fit_transform(y)\n",
    "\n",
    "X_train, X_test, y_train, y_test = train_test_split(X, y_encoded, test_size=0.2, random_state=42)"
   ]
  },
  {
   "cell_type": "code",
   "execution_count": 41,
   "metadata": {},
   "outputs": [
    {
     "name": "stdout",
     "output_type": "stream",
     "text": [
      "Model Accuracy: 0.9726785743360958\n",
      "Model F1 Score: 0.9725497611040768\n"
     ]
    }
   ],
   "source": [
    "model = xgb.XGBClassifier(enable_categorical=True)\n",
    "model.fit(X_train, y_train)\n",
    "\n",
    "y_pred = model.predict(X_test)\n",
    "accuracy = accuracy_score(y_test, y_pred)\n",
    "f1 = f1_score(y_test, y_pred, average='weighted')\n",
    "print(\"Model Accuracy:\", accuracy)\n",
    "print(\"Model F1 Score:\", f1)"
   ]
  },
  {
   "cell_type": "code",
   "execution_count": 42,
   "metadata": {},
   "outputs": [],
   "source": [
    "df1.to_csv(\"df.csv\", index=False)"
   ]
  },
  {
   "cell_type": "code",
   "execution_count": 52,
   "metadata": {},
   "outputs": [
    {
     "data": {
      "text/plain": [
       "array([ 3, 10,  4, ..., 25, 16,  5])"
      ]
     },
     "execution_count": 52,
     "metadata": {},
     "output_type": "execute_result"
    }
   ],
   "source": [
    "y_test"
   ]
  },
  {
   "cell_type": "code",
   "execution_count": 43,
   "metadata": {},
   "outputs": [],
   "source": [
    "import pickle\n",
    "\n",
    "with open(\"model.pkl\", \"wb\") as f:\n",
    "    pickle.dump(model, f)"
   ]
  },
  {
   "cell_type": "markdown",
   "metadata": {},
   "source": [
    "## transformer regresyon"
   ]
  },
  {
   "cell_type": "code",
   "execution_count": 29,
   "metadata": {},
   "outputs": [
    {
     "name": "stdout",
     "output_type": "stream",
     "text": [
      "Linear Regression:\n",
      "Mean Absolute Error (MAE): 4.02111659168775\n",
      "Mean Squared Error (MSE): 30.8172979637679\n",
      "R-squared (R2): 46.4614800824458\n",
      "RMSE: 5.551332989811357\n",
      "\n",
      "\n"
     ]
    },
    {
     "name": "stderr",
     "output_type": "stream",
     "text": [
      "c:\\Users\\Osman\\AppData\\Local\\Programs\\Python\\Python311\\Lib\\site-packages\\sklearn\\metrics\\_regression.py:483: FutureWarning: 'squared' is deprecated in version 1.4 and will be removed in 1.6. To calculate the root mean squared error, use the function'root_mean_squared_error'.\n",
      "  warnings.warn(\n"
     ]
    }
   ],
   "source": [
    "\n",
    "\n",
    "models = {\n",
    "    \"Linear Regression\": LinearRegression(),\n",
    "    \"SVM\": KNeighborsRegressor(),\n",
    "    \"KNN\": SVR(),\n",
    "    \"GBR\": GradientBoostingRegressor()\n",
    "}\n",
    "\n",
    "for name, model in models.items():\n",
    "    model.fit(X_train, y_train)\n",
    "    y_test_pred = model.predict(X_test)\n",
    "    \n",
    "    print(name + \":\")\n",
    "    mae = mean_absolute_error(y_test, y_test_pred)\n",
    "    mse = mean_squared_error(y_test, y_test_pred)\n",
    "    r2 = r2_score(y_test, y_test_pred)\n",
    "    rmse = mean_squared_error(y_true=y_test,y_pred=y_test_pred,squared=False)\n",
    "    \n",
    "   \n",
    "    print(\"Mean Absolute Error (MAE):\", mae)\n",
    "    print(\"Mean Squared Error (MSE):\", mse)\n",
    "    print(\"R-squared (R2):\", r2*100)\n",
    "    print(\"RMSE:\",rmse)\n",
    "    print(\"\\n\")\n",
    "\n",
    "\n",
    "\n",
    "\n",
    "def bidirectional_transformer_model(input_shape):\n",
    "    inputs = Input(shape=input_shape)\n",
    "    x = Conv1D(filters=16, kernel_size=2, activation='relu')(inputs)\n",
    "    x1 = Conv1D(filters=32, kernel_size=2, activation='relu')(x)\n",
    "    x1=MaxPooling1D(pool_size=2)(x1)\n",
    "\n",
    "    x1 = Conv1D(filters=64, kernel_size=2, activation='relu')(x1)\n",
    "    x1 = LayerNormalization()(x1)\n",
    "\n",
    "    # Transformer Encoder layers\n",
    "    x2 = MultiHeadAttention(num_heads=8, key_dim=64)(x1, x1)\n",
    "    x2 = Dropout(0.1)(x2)\n",
    "    x3 = LayerNormalization()(x2)\n",
    "    x4= Add()([x1, x3])  # Adding skip connection\n",
    "\n",
    "    x5 = TimeDistributed(Dense(128, activation='relu'))(x4)\n",
    "    x5 = TimeDistributed(Dense(64, activation='relu'))(x5)\n",
    "    x5 = LayerNormalization()(x4)\n",
    "\n",
    "    x5 = Add()([x4, x5])  # Adding skip connection\n",
    "\n",
    "    # LSTM layer\n",
    "    x6 = LSTM(units=150, return_sequences=True)(x5)\n",
    "    \n",
    "    # Flatten layer\n",
    "    x7 = Flatten()(x6)\n",
    "    \n",
    "    # Fully connected layers\n",
    "    x8 = Dense(300, activation='relu')(x7)\n",
    "    outputs = Dense(1)(x8)\n",
    "\n",
    "    model = Model(inputs=inputs, outputs=outputs)\n",
    "    return model\n",
    "\n",
    "\n",
    "\n",
    "# Create the Transformer model\n",
    "transformer_model = bidirectional_transformer_model(input_shape=(X_train.shape[1], 1))\n",
    "transformer_model.summary()\n",
    "\n",
    "# Compile and train the model\n",
    "transformer_model.compile(optimizer='adam', loss='mean_squared_error')\n",
    "transformer_model.fit(X_train.reshape((X_train.shape[0], X_train.shape[1], 1)), \n",
    "                      y_train, \n",
    "                      epochs=1000, \n",
    "                      batch_size=16, \n",
    "                      verbose=1)\n",
    "# Evaluate the model\n",
    "y_test_pred_lstm = transformer_model.predict(X_test.reshape((X_test.shape[0], X_test.shape[1], 1)))\n",
    "\n",
    "# Performance metrics calculation\n",
    "mae_lstm = mean_absolute_error(y_test, y_test_pred_lstm)\n",
    "mse_lstm = mean_squared_error(y_test, y_test_pred_lstm)\n",
    "r2_lstm = r2_score(y_test, y_test_pred_lstm)\n",
    "rmse_lstm = mean_squared_error(y_true=y_test, y_pred=y_test_pred_lstm, squared=False)\n",
    "\n",
    "# Print the results\n",
    "print(\"Attention-based LSTM model:\")\n",
    "print(\"Mean Absolute Error (MAE):\", mae_lstm)\n",
    "print(\"Mean Squared Error (MSE):\", mse_lstm)\n",
    "print(\"R-squared (R2):\", r2_lstm * 100)\n",
    "print(\"Root Mean Squared Error (RMSE):\", rmse_lstm)"
   ]
  },
  {
   "cell_type": "code",
   "execution_count": null,
   "metadata": {},
   "outputs": [],
   "source": [
    "import matplotlib.pyplot as plt\n",
    "\n",
    "# Model isimleri\n",
    "models = [\"Linear Regression\", \"SVM\", \"KNN\", \"GBR\", \"Attention-based LSTM\"]\n",
    "\n",
    "# Hata metrikleri\n",
    "mae = [mae_lr, mae_svm, mae_knn, mae_gbr, mae_lstm]\n",
    "mse = [mse_lr, mse_svm, mse_knn, mse_gbr, mse_lstm]\n",
    "r2 = [r2_lr, r2_svm, r2_knn, r2_gbr, r2_lstm]\n",
    "rmse = [rmse_lr, rmse_svm, rmse_knn, rmse_gbr, rmse_lstm]\n",
    "\n",
    "# Metrikleri içeren çizgi grafiği\n",
    "plt.figure(figsize=(10, 6))\n",
    "plt.plot(models, mae, marker='o', label='Mean Absolute Error (MAE)')\n",
    "plt.plot(models, mse, marker='o', label='Mean Squared Error (MSE)')\n",
    "plt.plot(models, r2, marker='o', label='R-squared (R2)')\n",
    "plt.plot(models, rmse, marker='o', label='Root Mean Squared Error (RMSE)')\n",
    "plt.title('Model Performansı')\n",
    "plt.xlabel('Modeller')\n",
    "plt.ylabel('Performans Metrikleri')\n",
    "plt.xticks(rotation=45)\n",
    "plt.legend()\n",
    "plt.grid(True)\n",
    "plt.tight_layout()\n",
    "plt.show()\n"
   ]
  },
  {
   "cell_type": "markdown",
   "metadata": {},
   "source": [
    "## transformer sınıflandırma"
   ]
  },
  {
   "cell_type": "code",
   "execution_count": 28,
   "metadata": {},
   "outputs": [],
   "source": [
    "X = df1.drop('label', axis=1)\n",
    "y = df1['label']\n",
    "\n",
    "# Kategorik sınıfların etiketlenmesi\n",
    "X = pd.get_dummies(X)\n",
    "le = LabelEncoder()\n",
    "y = le.fit_transform(y)\n",
    "\n",
    "# Veri kümesini eğitim ve test setlerine ayırma\n",
    "X_train, X_test, y_train, y_test = train_test_split(X, y, test_size=0.2, random_state=42)\n",
    "\n",
    "# Verileri ölçeklendirme\n",
    "scaler = StandardScaler()\n",
    "X_train_scaled = scaler.fit_transform(X_train)\n",
    "X_test_scaled = scaler.transform(X_test)\n",
    "\n",
    "# Modellerin tanımlanması\n",
    "models = {\n",
    "    \"SVM\": SVC(),\n",
    "    \"KNN\": KNeighborsClassifier(),\n",
    "    \"GBR\": GradientBoostingClassifier()\n",
    "}\n",
    "\n",
    "# Modellerin eğitimi ve doğruluk ve F1 skorlarının yazdırılması\n",
    "for name, model in models.items():\n",
    "    model.fit(X_train_scaled, y_train)\n",
    "    y_test_pred = model.predict(X_test_scaled)\n",
    "    \n",
    "    print(name + \":\")\n",
    "    accuracy = accuracy_score(y_test, y_test_pred)\n",
    "    f1 = f1_score(y_test, y_test_pred, average='weighted')\n",
    "    \n",
    "    print(\"Accuracy:\", accuracy)\n",
    "    print(\"F1 Score:\", f1)\n",
    "    print(\"\\n\")\n",
    "\n",
    "# Transformer modelin tanımlanması ve eğitimi\n",
    "def bidirectional_transformer_model(input_shape, num_classes):\n",
    "    inputs = Input(shape=input_shape)\n",
    "    x = Conv1D(filters=16, kernel_size=2, activation='relu')(inputs)\n",
    "    x1 = Conv1D(filters=32, kernel_size=2, activation='relu')(x)\n",
    "    x1 = MaxPooling1D(pool_size=2)(x1)\n",
    "    x1 = Conv1D(filters=64, kernel_size=2, activation='relu')(x1)\n",
    "    x1 = LayerNormalization()(x1)\n",
    "    x2 = MultiHeadAttention(num_heads=8, key_dim=64)(x1, x1)\n",
    "    x2 = Dropout(0.1)(x2)\n",
    "    x3 = LayerNormalization()(x2)\n",
    "    x4 = Add()([x1, x3])\n",
    "    x5 = TimeDistributed(Dense(128, activation='relu'))(x4)\n",
    "    x5 = TimeDistributed(Dense(64, activation='relu'))(x5)\n",
    "    x5 = LayerNormalization()(x5)\n",
    "    x5 = Add()([x4, x5])\n",
    "    x6 = LSTM(units=150, return_sequences=True)(x5)\n",
    "    x7 = Flatten()(x6)\n",
    "    x8 = Dense(300, activation='relu')(x7)\n",
    "    outputs = Dense(num_classes, activation='softmax')(x8)\n",
    "\n",
    "    model = Model(inputs=inputs, outputs=outputs)\n",
    "    return model\n",
    "\n",
    "# Kategorik etiketleri one-hot encode etme\n",
    "num_classes = len(set(y_train))\n",
    "y_train_categorical = to_categorical(y_train, num_classes=num_classes)\n",
    "y_test_categorical = to_categorical(y_test, num_classes=num_classes)\n",
    "\n",
    "# Transformer modelin oluşturulması\n",
    "transformer_model = bidirectional_transformer_model(input_shape=(X_train.shape[1], 1), num_classes=num_classes)\n",
    "transformer_model.summary()\n",
    "\n",
    "# Modelin derlenmesi ve eğitilmesi\n",
    "transformer_model.compile(optimizer='adam', loss='categorical_crossentropy', metrics=['accuracy'])\n",
    "transformer_model.fit(X_train_scaled.reshape((X_train.shape[0], X_train.shape[1], 1)), \n",
    "                      y_train_categorical, \n",
    "                      epochs=100, \n",
    "                      batch_size=16, \n",
    "                      verbose=1)\n",
    "\n",
    "# Modelin değerlendirilmesi\n",
    "y_test_pred_lstm_prob = transformer_model.predict(X_test_scaled.reshape((X_test.shape[0], X_test.shape[1], 1)))\n",
    "y_test_pred_lstm = y_test_pred_lstm_prob.argmax(axis=1)\n",
    "\n",
    "# Performans metriklerinin hesaplanması\n",
    "accuracy_lstm = accuracy_score(y_test, y_test_pred_lstm)\n",
    "f1_lstm = f1_score(y_test, y_test_pred_lstm, average='weighted')\n",
    "\n",
    "# Sonuçların yazdırılması\n",
    "print(\"Attention-based LSTM model:\")\n",
    "print(\"Accuracy:\", accuracy_lstm)\n",
    "print(\"F1 Score:\", f1_lstm)\n"
   ]
  },
  {
   "cell_type": "code",
   "execution_count": null,
   "metadata": {},
   "outputs": [],
   "source": []
  },
  {
   "cell_type": "code",
   "execution_count": null,
   "metadata": {},
   "outputs": [],
   "source": []
  }
 ],
 "metadata": {
  "kernelspec": {
   "display_name": "Python 3",
   "language": "python",
   "name": "python3"
  },
  "language_info": {
   "codemirror_mode": {
    "name": "ipython",
    "version": 3
   },
   "file_extension": ".py",
   "mimetype": "text/x-python",
   "name": "python",
   "nbconvert_exporter": "python",
   "pygments_lexer": "ipython3",
   "version": "3.11.8"
  }
 },
 "nbformat": 4,
 "nbformat_minor": 2
}
