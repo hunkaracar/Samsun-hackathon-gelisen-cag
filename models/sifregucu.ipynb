{
 "cells": [
  {
   "cell_type": "code",
   "execution_count": 1,
   "metadata": {},
   "outputs": [
    {
     "name": "stdout",
     "output_type": "stream",
     "text": [
      "Score of the model is 0.9676841287856162 .\n"
     ]
    }
   ],
   "source": [
    "import numpy as np\n",
    "import pandas as pd\n",
    "from sklearn.feature_extraction.text import TfidfVectorizer\n",
    "from sklearn.model_selection import train_test_split\n",
    "from sklearn.ensemble import RandomForestClassifier\n",
    "import dill as pickle\n",
    "from utils import word  # word fonksiyonunu import ediyoruz\n",
    "\n",
    "file_path = \"C:/Users/Osman/Desktop/DOCUMENTS/Hackathon/app/models/SifreGücüBelirleme/data.csv\"\n",
    "df = pd.read_csv(file_path, on_bad_lines='skip')\n",
    "\n",
    "df = df.dropna()\n",
    "\n",
    "df[\"strength\"] = df['strength'].map({0: \"Weak\",\n",
    "                                     1: \"Medium\",\n",
    "                                     2: \"Strong\"})\n",
    "\n",
    "x = np.array(df[\"password\"])\n",
    "y = np.array(df[\"strength\"])\n",
    "\n",
    "tfidf = TfidfVectorizer(tokenizer=word, lowercase=False, token_pattern=None)\n",
    "x = tfidf.fit_transform(x)\n",
    "\n",
    "x_train, x_test, y_train, y_test = train_test_split(x, y, test_size=0.05, random_state=42)\n",
    "\n",
    "model = RandomForestClassifier()\n",
    "model.fit(x_train, y_train)\n",
    "print(\"Score of the model is\", model.score(x_test, y_test), \".\")\n",
    "\n",
    "# Modeli ve TF-IDF vektörleştiriciyi birlikte kaydet\n",
    "with open(\"C:/Users/Osman/Desktop/DOCUMENTS/Hackathon/app/models/SifreGücüBelirleme/sifregucu.pkl\", \"wb\") as f:\n",
    "    pickle.dump((model, tfidf), f)\n"
   ]
  },
  {
   "cell_type": "code",
   "execution_count": 2,
   "metadata": {},
   "outputs": [
    {
     "name": "stdout",
     "output_type": "stream",
     "text": [
      "['Medium']\n"
     ]
    },
    {
     "data": {
      "text/plain": [
       "array(['Medium'], dtype=object)"
      ]
     },
     "execution_count": 2,
     "metadata": {},
     "output_type": "execute_result"
    }
   ],
   "source": [
    "def text(girdi):\n",
    "    return tahmin(girdi)\n",
    "\n",
    "def tahmin(girdi):\n",
    "    import dill as pickle\n",
    "    from utils import word  # word fonksiyonunu import ediyoruz\n",
    "\n",
    "    # Modeli ve TF-IDF vektörleştiriciyi yükle\n",
    "    with open(\"C:/Users/Osman/Desktop/DOCUMENTS/Hackathon/app/models/SifreGücüBelirleme/sifregucu.pkl\", \"rb\") as f:\n",
    "        model, tfidf = pickle.load(f)\n",
    "\n",
    "    # Yeni kullanıcının şifresini tahmin et\n",
    "    girdi = str(girdi)\n",
    "    data = tfidf.transform([girdi])\n",
    "    output = model.predict(data)\n",
    "    print(output)\n",
    "    return output\n",
    "\n",
    "text(\"osman\")"
   ]
  },
  {
   "cell_type": "code",
   "execution_count": null,
   "metadata": {},
   "outputs": [],
   "source": [
    "import numpy as np\n",
    "import matplotlib.pyplot as plt\n",
    "from sklearn.datasets import make_classification\n",
    "from sklearn.ensemble import RandomForestClassifier\n",
    "\n",
    "# Örnek veri kümesi oluşturma\n",
    "X, y = make_classification(n_samples=100, n_features=2, n_classes=2, n_clusters_per_class=1, random_state=42)\n",
    "\n",
    "# RandomForestClassifier modelini oluşturma\n",
    "clf = RandomForestClassifier(n_estimators=10, random_state=42)\n",
    "clf.fit(X, y)\n",
    "\n",
    "# Karar sınırlarını görselleştirme\n",
    "x_min, x_max = X[:, 0].min() - 1, X[:, 0].max() + 1\n",
    "y_min, y_max = X[:, 1].min() - 1, X[:, 1].max() + 1\n",
    "xx, yy = np.meshgrid(np.arange(x_min, x_max, 0.1), np.arange(y_min, y_max, 0.1))\n",
    "\n",
    "plt.figure(figsize=(10, 6))\n",
    "\n",
    "for tree in clf.estimators_:\n",
    "    Z = tree.predict(np.c_[xx.ravel(), yy.ravel()])\n",
    "    Z = Z.reshape(xx.shape)\n",
    "    plt.contourf(xx, yy, Z, alpha=0.1)\n",
    "\n",
    "# Veri noktalarını görselleştirme\n",
    "plt.scatter(X[:, 0], X[:, 1], c=y, marker='o', edgecolor='k', s=100, cmap=plt.cm.RdBu, alpha=0.8)\n",
    "\n",
    "# Eksen etiketleri\n",
    "plt.xlabel('Feature 1', fontsize=14)\n",
    "plt.ylabel('Feature 2', fontsize=14)\n",
    "\n",
    "# Başlık\n",
    "plt.title('RandomForestClassifier Decision Boundaries', fontsize=16)\n",
    "\n",
    "# Lejant\n",
    "plt.legend(loc='upper right')\n",
    "\n",
    "# Eksen sınırları\n",
    "plt.xlim(xx.min(), xx.max())\n",
    "plt.ylim(yy.min(), yy.max())\n",
    "\n",
    "# Rastgele Ormanın bir parçası olarak görselleştirilmiş ağaçlar\n",
    "plt.grid(True)\n",
    "plt.show()\n"
   ]
  },
  {
   "cell_type": "code",
   "execution_count": null,
   "metadata": {},
   "outputs": [],
   "source": []
  }
 ],
 "metadata": {
  "kernelspec": {
   "display_name": "Python 3",
   "language": "python",
   "name": "python3"
  },
  "language_info": {
   "codemirror_mode": {
    "name": "ipython",
    "version": 3
   },
   "file_extension": ".py",
   "mimetype": "text/x-python",
   "name": "python",
   "nbconvert_exporter": "python",
   "pygments_lexer": "ipython3",
   "version": "3.11.8"
  }
 },
 "nbformat": 4,
 "nbformat_minor": 2
}
