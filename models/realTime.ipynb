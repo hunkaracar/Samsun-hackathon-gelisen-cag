{
 "cells": [
  {
   "cell_type": "code",
   "execution_count": null,
   "metadata": {},
   "outputs": [],
   "source": [
    "from scapy.all import sniff\n",
    "\n",
    "def packet_callback(packet):\n",
    "    print(packet.show())\n",
    "\n",
    "sniff(prn=packet_callback, count=10)\n"
   ]
  },
  {
   "cell_type": "code",
   "execution_count": null,
   "metadata": {},
   "outputs": [],
   "source": [
    "import pyshark\n",
    "\n",
    "tshark_path = r'C:\\Program Files\\Wireshark\\tshark.exe'\n",
    "\n",
    "capture = pyshark.LiveCapture(interface='eth0', tshark_path=tshark_path)\n",
    "capture.sniff(timeout=50)\n",
    "\n",
    "for packet in capture:\n",
    "    print(packet)\n"
   ]
  },
  {
   "cell_type": "code",
   "execution_count": null,
   "metadata": {},
   "outputs": [],
   "source": [
    "from scapy.all import sniff\n",
    "\n",
    "def packet_callback(packet):\n",
    "    print(packet.summary())\n",
    "\n",
    "sniff(iface='eth0', prn=packet_callback, count=10)"
   ]
  }
 ],
 "metadata": {
  "kernelspec": {
   "display_name": "Python 3",
   "language": "python",
   "name": "python3"
  },
  "language_info": {
   "codemirror_mode": {
    "name": "ipython",
    "version": 3
   },
   "file_extension": ".py",
   "mimetype": "text/x-python",
   "name": "python",
   "nbconvert_exporter": "python",
   "pygments_lexer": "ipython3",
   "version": "3.11.8"
  }
 },
 "nbformat": 4,
 "nbformat_minor": 2
}
