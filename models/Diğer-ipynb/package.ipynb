{
 "cells": [
  {
   "cell_type": "code",
   "execution_count": 4,
   "metadata": {},
   "outputs": [
    {
     "name": "stdout",
     "output_type": "stream",
     "text": [
      "{'_index': 'packets-2024-05-28', '_type': 'doc', '_score': None, '_source': {'layers': {'frame': {'frame.section_number': '1', 'frame.interface_id': '0', 'frame.interface_id_tree': {'frame.interface_name': 'eth0'}, 'frame.encap_type': '1', 'frame.time': 'May 28, 2024 15:36:51.663139870 EDT', 'frame.offset_shift': '0.000000000', 'frame.time_epoch': '1716925011.663139870', 'frame.time_delta': '0.000000000', 'frame.time_delta_displayed': '0.000000000', 'frame.time_relative': '0.000000000', 'frame.number': '1', 'frame.len': '42', 'frame.cap_len': '42', 'frame.marked': '0', 'frame.ignored': '0', 'frame.protocols': 'eth:ethertype:arp'}, 'eth': {'eth.dst': '08:00:27:25:da:aa', 'eth.dst_tree': {'eth.dst_resolved': '08:00:27:25:da:aa', 'eth.dst.oui': '524327', 'eth.addr': '08:00:27:25:da:aa', 'eth.addr_resolved': '08:00:27:25:da:aa', 'eth.addr.oui': '524327', 'eth.dst.lg': '0', 'eth.lg': '0', 'eth.dst.ig': '0', 'eth.ig': '0'}, 'eth.src': '08:00:27:ef:f0:6e', 'eth.src_tree': {'eth.src_resolved': '08:00:27:ef:f0:6e', 'eth.src.oui': '524327', 'eth.addr': '08:00:27:ef:f0:6e', 'eth.addr_resolved': '08:00:27:ef:f0:6e', 'eth.addr.oui': '524327', 'eth.src.lg': '0', 'eth.lg': '0', 'eth.src.ig': '0', 'eth.ig': '0'}, 'eth.type': '0x0806'}, 'arp': {'arp.hw.type': '1', 'arp.proto.type': '0x0800', 'arp.hw.size': '6', 'arp.proto.size': '4', 'arp.opcode': '1', 'arp.src.hw_mac': '08:00:27:ef:f0:6e', 'arp.src.proto_ipv4': '10.0.2.7', 'arp.dst.hw_mac': '00:00:00:00:00:00', 'arp.dst.proto_ipv4': '10.0.2.3'}}}}\n",
      "{'_index': 'packets-2024-05-28', '_type': 'doc', '_score': None, '_source': {'layers': {'frame': {'frame.section_number': '1', 'frame.interface_id': '0', 'frame.interface_id_tree': {'frame.interface_name': 'eth0'}, 'frame.encap_type': '1', 'frame.time': 'May 28, 2024 15:36:51.663568202 EDT', 'frame.offset_shift': '0.000000000', 'frame.time_epoch': '1716925011.663568202', 'frame.time_delta': '0.000428332', 'frame.time_delta_displayed': '0.000428332', 'frame.time_relative': '0.000428332', 'frame.number': '2', 'frame.len': '60', 'frame.cap_len': '60', 'frame.marked': '0', 'frame.ignored': '0', 'frame.protocols': 'eth:ethertype:arp'}, 'eth': {'eth.dst': '08:00:27:ef:f0:6e', 'eth.dst_tree': {'eth.dst_resolved': '08:00:27:ef:f0:6e', 'eth.dst.oui': '524327', 'eth.addr': '08:00:27:ef:f0:6e', 'eth.addr_resolved': '08:00:27:ef:f0:6e', 'eth.addr.oui': '524327', 'eth.dst.lg': '0', 'eth.lg': '0', 'eth.dst.ig': '0', 'eth.ig': '0'}, 'eth.src': '08:00:27:25:da:aa', 'eth.src_tree': {'eth.src_resolved': '08:00:27:25:da:aa', 'eth.src.oui': '524327', 'eth.addr': '08:00:27:25:da:aa', 'eth.addr_resolved': '08:00:27:25:da:aa', 'eth.addr.oui': '524327', 'eth.src.lg': '0', 'eth.lg': '0', 'eth.src.ig': '0', 'eth.ig': '0'}, 'eth.type': '0x0806', 'eth.padding': '00:00:00:00:00:00:00:00:00:00:00:00:00:00:00:00:00:00'}, 'arp': {'arp.hw.type': '1', 'arp.proto.type': '0x0800', 'arp.hw.size': '6', 'arp.proto.size': '4', 'arp.opcode': '2', 'arp.src.hw_mac': '08:00:27:25:da:aa', 'arp.src.proto_ipv4': '10.0.2.3', 'arp.dst.hw_mac': '08:00:27:ef:f0:6e', 'arp.dst.proto_ipv4': '10.0.2.7'}}}}\n",
      "{'_index': 'packets-2024-05-28', '_type': 'doc', '_score': None, '_source': {'layers': {'frame': {'frame.section_number': '1', 'frame.interface_id': '0', 'frame.interface_id_tree': {'frame.interface_name': 'eth0'}, 'frame.encap_type': '1', 'frame.time': 'May 28, 2024 15:36:53.587183970 EDT', 'frame.offset_shift': '0.000000000', 'frame.time_epoch': '1716925013.587183970', 'frame.time_delta': '1.923615768', 'frame.time_delta_displayed': '1.923615768', 'frame.time_relative': '1.924044100', 'frame.number': '3', 'frame.len': '98', 'frame.cap_len': '98', 'frame.marked': '0', 'frame.ignored': '0', 'frame.protocols': 'eth:ethertype:ip:icmp:data'}, 'eth': {'eth.dst': '08:00:27:ee:05:7f', 'eth.dst_tree': {'eth.dst_resolved': '08:00:27:ee:05:7f', 'eth.dst.oui': '524327', 'eth.addr': '08:00:27:ee:05:7f', 'eth.addr_resolved': '08:00:27:ee:05:7f', 'eth.addr.oui': '524327', 'eth.dst.lg': '0', 'eth.lg': '0', 'eth.dst.ig': '0', 'eth.ig': '0'}, 'eth.src': '08:00:27:ef:f0:6e', 'eth.src_tree': {'eth.src_resolved': '08:00:27:ef:f0:6e', 'eth.src.oui': '524327', 'eth.addr': '08:00:27:ef:f0:6e', 'eth.addr_resolved': '08:00:27:ef:f0:6e', 'eth.addr.oui': '524327', 'eth.src.lg': '0', 'eth.lg': '0', 'eth.src.ig': '0', 'eth.ig': '0'}, 'eth.type': '0x0800'}, 'ip': {'ip.version': '4', 'ip.hdr_len': '20', 'ip.dsfield': '0x00', 'ip.dsfield_tree': {'ip.dsfield.dscp': '0', 'ip.dsfield.ecn': '0'}, 'ip.len': '84', 'ip.id': '0x1904', 'ip.flags': '0x02', 'ip.flags_tree': {'ip.flags.rb': '0', 'ip.flags.df': '1', 'ip.flags.mf': '0'}, 'ip.frag_offset': '0', 'ip.ttl': '10', 'ip.proto': '1', 'ip.checksum': '0x3f9a', 'ip.checksum.status': '2', 'ip.src': '10.0.2.7', 'ip.addr': '10.0.2.5', 'ip.src_host': '10.0.2.7', 'ip.host': '10.0.2.5', 'ip.dst': '10.0.2.5', 'ip.dst_host': '10.0.2.5'}, 'icmp': {'icmp.type': '8', 'icmp.code': '0', 'icmp.checksum': '0x169b', 'icmp.checksum.status': '1', 'icmp.ident': '55298', 'icmp.ident_le': '728', 'icmp.seq': '1', 'icmp.seq_le': '256', 'icmp.data_time': 'May 28, 2024 15:36:53.000000000 EDT', 'icmp.data_time_relative': '0.587183970', 'data': {'data.data': '96:f5:08:00:00:00:00:00:10:11:12:13:14:15:16:17:18:19:1a:1b:1c:1d:1e:1f:20:21:22:23:24:25:26:27:28:29:2a:2b:2c:2d:2e:2f:30:31:32:33:34:35:36:37', 'data.len': '48'}}}}}\n",
      "{'_index': 'packets-2024-05-28', '_type': 'doc', '_score': None, '_source': {'layers': {'frame': {'frame.section_number': '1', 'frame.interface_id': '0', 'frame.interface_id_tree': {'frame.interface_name': 'eth0'}, 'frame.encap_type': '1', 'frame.time': 'May 28, 2024 15:36:54.603172158 EDT', 'frame.offset_shift': '0.000000000', 'frame.time_epoch': '1716925014.603172158', 'frame.time_delta': '1.015988188', 'frame.time_delta_displayed': '1.015988188', 'frame.time_relative': '2.940032288', 'frame.number': '4', 'frame.len': '98', 'frame.cap_len': '98', 'frame.marked': '0', 'frame.ignored': '0', 'frame.protocols': 'eth:ethertype:ip:icmp:data'}, 'eth': {'eth.dst': '08:00:27:ee:05:7f', 'eth.dst_tree': {'eth.dst_resolved': '08:00:27:ee:05:7f', 'eth.dst.oui': '524327', 'eth.addr': '08:00:27:ee:05:7f', 'eth.addr_resolved': '08:00:27:ee:05:7f', 'eth.addr.oui': '524327', 'eth.dst.lg': '0', 'eth.lg': '0', 'eth.dst.ig': '0', 'eth.ig': '0'}, 'eth.src': '08:00:27:ef:f0:6e', 'eth.src_tree': {'eth.src_resolved': '08:00:27:ef:f0:6e', 'eth.src.oui': '524327', 'eth.addr': '08:00:27:ef:f0:6e', 'eth.addr_resolved': '08:00:27:ef:f0:6e', 'eth.addr.oui': '524327', 'eth.src.lg': '0', 'eth.lg': '0', 'eth.src.ig': '0', 'eth.ig': '0'}, 'eth.type': '0x0800'}, 'ip': {'ip.version': '4', 'ip.hdr_len': '20', 'ip.dsfield': '0x00', 'ip.dsfield_tree': {'ip.dsfield.dscp': '0', 'ip.dsfield.ecn': '0'}, 'ip.len': '84', 'ip.id': '0x19d7', 'ip.flags': '0x02', 'ip.flags_tree': {'ip.flags.rb': '0', 'ip.flags.df': '1', 'ip.flags.mf': '0'}, 'ip.frag_offset': '0', 'ip.ttl': '10', 'ip.proto': '1', 'ip.checksum': '0x3ec7', 'ip.checksum.status': '2', 'ip.src': '10.0.2.7', 'ip.addr': '10.0.2.5', 'ip.src_host': '10.0.2.7', 'ip.host': '10.0.2.5', 'ip.dst': '10.0.2.5', 'ip.dst_host': '10.0.2.5'}, 'icmp': {'icmp.type': '8', 'icmp.code': '0', 'icmp.checksum': '0x975b', 'icmp.checksum.status': '1', 'icmp.ident': '55298', 'icmp.ident_le': '728', 'icmp.seq': '2', 'icmp.seq_le': '512', 'icmp.data_time': 'May 28, 2024 15:36:54.000000000 EDT', 'icmp.data_time_relative': '0.603172158', 'data': {'data.data': '14:34:09:00:00:00:00:00:10:11:12:13:14:15:16:17:18:19:1a:1b:1c:1d:1e:1f:20:21:22:23:24:25:26:27:28:29:2a:2b:2c:2d:2e:2f:30:31:32:33:34:35:36:37', 'data.len': '48'}}}}}\n",
      "{'_index': 'packets-2024-05-28', '_type': 'doc', '_score': None, '_source': {'layers': {'frame': {'frame.section_number': '1', 'frame.interface_id': '0', 'frame.interface_id_tree': {'frame.interface_name': 'eth0'}, 'frame.encap_type': '1', 'frame.time': 'May 28, 2024 15:36:55.626839439 EDT', 'frame.offset_shift': '0.000000000', 'frame.time_epoch': '1716925015.626839439', 'frame.time_delta': '1.023667281', 'frame.time_delta_displayed': '1.023667281', 'frame.time_relative': '3.963699569', 'frame.number': '5', 'frame.len': '98', 'frame.cap_len': '98', 'frame.marked': '0', 'frame.ignored': '0', 'frame.protocols': 'eth:ethertype:ip:icmp:data'}, 'eth': {'eth.dst': '08:00:27:ee:05:7f', 'eth.dst_tree': {'eth.dst_resolved': '08:00:27:ee:05:7f', 'eth.dst.oui': '524327', 'eth.addr': '08:00:27:ee:05:7f', 'eth.addr_resolved': '08:00:27:ee:05:7f', 'eth.addr.oui': '524327', 'eth.dst.lg': '0', 'eth.lg': '0', 'eth.dst.ig': '0', 'eth.ig': '0'}, 'eth.src': '08:00:27:ef:f0:6e', 'eth.src_tree': {'eth.src_resolved': '08:00:27:ef:f0:6e', 'eth.src.oui': '524327', 'eth.addr': '08:00:27:ef:f0:6e', 'eth.addr_resolved': '08:00:27:ef:f0:6e', 'eth.addr.oui': '524327', 'eth.src.lg': '0', 'eth.lg': '0', 'eth.src.ig': '0', 'eth.ig': '0'}, 'eth.type': '0x0800'}, 'ip': {'ip.version': '4', 'ip.hdr_len': '20', 'ip.dsfield': '0x00', 'ip.dsfield_tree': {'ip.dsfield.dscp': '0', 'ip.dsfield.ecn': '0'}, 'ip.len': '84', 'ip.id': '0x1ad1', 'ip.flags': '0x02', 'ip.flags_tree': {'ip.flags.rb': '0', 'ip.flags.df': '1', 'ip.flags.mf': '0'}, 'ip.frag_offset': '0', 'ip.ttl': '10', 'ip.proto': '1', 'ip.checksum': '0x3dcd', 'ip.checksum.status': '2', 'ip.src': '10.0.2.7', 'ip.addr': '10.0.2.5', 'ip.src_host': '10.0.2.7', 'ip.host': '10.0.2.5', 'ip.dst': '10.0.2.5', 'ip.dst_host': '10.0.2.5'}, 'icmp': {'icmp.type': '8', 'icmp.code': '0', 'icmp.checksum': '0x37fe', 'icmp.checksum.status': '1', 'icmp.ident': '55298', 'icmp.ident_le': '728', 'icmp.seq': '3', 'icmp.seq_le': '768', 'icmp.data_time': 'May 28, 2024 15:36:55.000000000 EDT', 'icmp.data_time_relative': '0.626839439', 'data': {'data.data': '72:90:09:00:00:00:00:00:10:11:12:13:14:15:16:17:18:19:1a:1b:1c:1d:1e:1f:20:21:22:23:24:25:26:27:28:29:2a:2b:2c:2d:2e:2f:30:31:32:33:34:35:36:37', 'data.len': '48'}}}}}\n",
      "{'_index': 'packets-2024-05-28', '_type': 'doc', '_score': None, '_source': {'layers': {'frame': {'frame.section_number': '1', 'frame.interface_id': '0', 'frame.interface_id_tree': {'frame.interface_name': 'eth0'}, 'frame.encap_type': '1', 'frame.time': 'May 28, 2024 15:36:56.652184138 EDT', 'frame.offset_shift': '0.000000000', 'frame.time_epoch': '1716925016.652184138', 'frame.time_delta': '1.025344699', 'frame.time_delta_displayed': '1.025344699', 'frame.time_relative': '4.989044268', 'frame.number': '6', 'frame.len': '98', 'frame.cap_len': '98', 'frame.marked': '0', 'frame.ignored': '0', 'frame.protocols': 'eth:ethertype:ip:icmp:data'}, 'eth': {'eth.dst': '08:00:27:ee:05:7f', 'eth.dst_tree': {'eth.dst_resolved': '08:00:27:ee:05:7f', 'eth.dst.oui': '524327', 'eth.addr': '08:00:27:ee:05:7f', 'eth.addr_resolved': '08:00:27:ee:05:7f', 'eth.addr.oui': '524327', 'eth.dst.lg': '0', 'eth.lg': '0', 'eth.dst.ig': '0', 'eth.ig': '0'}, 'eth.src': '08:00:27:ef:f0:6e', 'eth.src_tree': {'eth.src_resolved': '08:00:27:ef:f0:6e', 'eth.src.oui': '524327', 'eth.addr': '08:00:27:ef:f0:6e', 'eth.addr_resolved': '08:00:27:ef:f0:6e', 'eth.addr.oui': '524327', 'eth.src.lg': '0', 'eth.lg': '0', 'eth.src.ig': '0', 'eth.ig': '0'}, 'eth.type': '0x0800'}, 'ip': {'ip.version': '4', 'ip.hdr_len': '20', 'ip.dsfield': '0x00', 'ip.dsfield_tree': {'ip.dsfield.dscp': '0', 'ip.dsfield.ecn': '0'}, 'ip.len': '84', 'ip.id': '0x1b51', 'ip.flags': '0x02', 'ip.flags_tree': {'ip.flags.rb': '0', 'ip.flags.df': '1', 'ip.flags.mf': '0'}, 'ip.frag_offset': '0', 'ip.ttl': '10', 'ip.proto': '1', 'ip.checksum': '0x3d4d', 'ip.checksum.status': '2', 'ip.src': '10.0.2.7', 'ip.addr': '10.0.2.5', 'ip.src_host': '10.0.2.7', 'ip.host': '10.0.2.5', 'ip.dst': '10.0.2.5', 'ip.dst_host': '10.0.2.5'}, 'icmp': {'icmp.type': '8', 'icmp.code': '0', 'icmp.checksum': '0x399a', 'icmp.checksum.status': '1', 'icmp.ident': '55298', 'icmp.ident_le': '728', 'icmp.seq': '4', 'icmp.seq_le': '1024', 'icmp.data_time': 'May 28, 2024 15:36:56.000000000 EDT', 'icmp.data_time_relative': '0.652184138', 'data': {'data.data': '6f:f3:09:00:00:00:00:00:10:11:12:13:14:15:16:17:18:19:1a:1b:1c:1d:1e:1f:20:21:22:23:24:25:26:27:28:29:2a:2b:2c:2d:2e:2f:30:31:32:33:34:35:36:37', 'data.len': '48'}}}}}\n",
      "{'_index': 'packets-2024-05-28', '_type': 'doc', '_score': None, '_source': {'layers': {'frame': {'frame.section_number': '1', 'frame.interface_id': '0', 'frame.interface_id_tree': {'frame.interface_name': 'eth0'}, 'frame.encap_type': '1', 'frame.time': 'May 28, 2024 15:36:57.674618743 EDT', 'frame.offset_shift': '0.000000000', 'frame.time_epoch': '1716925017.674618743', 'frame.time_delta': '1.022434605', 'frame.time_delta_displayed': '1.022434605', 'frame.time_relative': '6.011478873', 'frame.number': '7', 'frame.len': '98', 'frame.cap_len': '98', 'frame.marked': '0', 'frame.ignored': '0', 'frame.protocols': 'eth:ethertype:ip:icmp:data'}, 'eth': {'eth.dst': '08:00:27:ee:05:7f', 'eth.dst_tree': {'eth.dst_resolved': '08:00:27:ee:05:7f', 'eth.dst.oui': '524327', 'eth.addr': '08:00:27:ee:05:7f', 'eth.addr_resolved': '08:00:27:ee:05:7f', 'eth.addr.oui': '524327', 'eth.dst.lg': '0', 'eth.lg': '0', 'eth.dst.ig': '0', 'eth.ig': '0'}, 'eth.src': '08:00:27:ef:f0:6e', 'eth.src_tree': {'eth.src_resolved': '08:00:27:ef:f0:6e', 'eth.src.oui': '524327', 'eth.addr': '08:00:27:ef:f0:6e', 'eth.addr_resolved': '08:00:27:ef:f0:6e', 'eth.addr.oui': '524327', 'eth.src.lg': '0', 'eth.lg': '0', 'eth.src.ig': '0', 'eth.ig': '0'}, 'eth.type': '0x0800'}, 'ip': {'ip.version': '4', 'ip.hdr_len': '20', 'ip.dsfield': '0x00', 'ip.dsfield_tree': {'ip.dsfield.dscp': '0', 'ip.dsfield.ecn': '0'}, 'ip.len': '84', 'ip.id': '0x1be3', 'ip.flags': '0x02', 'ip.flags_tree': {'ip.flags.rb': '0', 'ip.flags.df': '1', 'ip.flags.mf': '0'}, 'ip.frag_offset': '0', 'ip.ttl': '10', 'ip.proto': '1', 'ip.checksum': '0x3cbb', 'ip.checksum.status': '2', 'ip.src': '10.0.2.7', 'ip.addr': '10.0.2.5', 'ip.src_host': '10.0.2.7', 'ip.host': '10.0.2.5', 'ip.dst': '10.0.2.5', 'ip.dst_host': '10.0.2.5'}, 'icmp': {'icmp.type': '8', 'icmp.code': '0', 'icmp.checksum': '0x7b41', 'icmp.checksum.status': '1', 'icmp.ident': '55298', 'icmp.ident_le': '728', 'icmp.seq': '5', 'icmp.seq_le': '1280', 'icmp.data_time': 'May 28, 2024 15:36:57.000000000 EDT', 'icmp.data_time_relative': '0.674618743', 'data': {'data.data': '2c:4b:0a:00:00:00:00:00:10:11:12:13:14:15:16:17:18:19:1a:1b:1c:1d:1e:1f:20:21:22:23:24:25:26:27:28:29:2a:2b:2c:2d:2e:2f:30:31:32:33:34:35:36:37', 'data.len': '48'}}}}}\n",
      "{'_index': 'packets-2024-05-28', '_type': 'doc', '_score': None, '_source': {'layers': {'frame': {'frame.section_number': '1', 'frame.interface_id': '0', 'frame.interface_id_tree': {'frame.interface_name': 'eth0'}, 'frame.encap_type': '1', 'frame.time': 'May 28, 2024 15:36:58.698894427 EDT', 'frame.offset_shift': '0.000000000', 'frame.time_epoch': '1716925018.698894427', 'frame.time_delta': '1.024275684', 'frame.time_delta_displayed': '1.024275684', 'frame.time_relative': '7.035754557', 'frame.number': '8', 'frame.len': '98', 'frame.cap_len': '98', 'frame.marked': '0', 'frame.ignored': '0', 'frame.protocols': 'eth:ethertype:ip:icmp:data'}, 'eth': {'eth.dst': '08:00:27:ee:05:7f', 'eth.dst_tree': {'eth.dst_resolved': '08:00:27:ee:05:7f', 'eth.dst.oui': '524327', 'eth.addr': '08:00:27:ee:05:7f', 'eth.addr_resolved': '08:00:27:ee:05:7f', 'eth.addr.oui': '524327', 'eth.dst.lg': '0', 'eth.lg': '0', 'eth.dst.ig': '0', 'eth.ig': '0'}, 'eth.src': '08:00:27:ef:f0:6e', 'eth.src_tree': {'eth.src_resolved': '08:00:27:ef:f0:6e', 'eth.src.oui': '524327', 'eth.addr': '08:00:27:ef:f0:6e', 'eth.addr_resolved': '08:00:27:ef:f0:6e', 'eth.addr.oui': '524327', 'eth.src.lg': '0', 'eth.lg': '0', 'eth.src.ig': '0', 'eth.ig': '0'}, 'eth.type': '0x0800'}, 'ip': {'ip.version': '4', 'ip.hdr_len': '20', 'ip.dsfield': '0x00', 'ip.dsfield_tree': {'ip.dsfield.dscp': '0', 'ip.dsfield.ecn': '0'}, 'ip.len': '84', 'ip.id': '0x1c14', 'ip.flags': '0x02', 'ip.flags_tree': {'ip.flags.rb': '0', 'ip.flags.df': '1', 'ip.flags.mf': '0'}, 'ip.frag_offset': '0', 'ip.ttl': '10', 'ip.proto': '1', 'ip.checksum': '0x3c8a', 'ip.checksum.status': '2', 'ip.src': '10.0.2.7', 'ip.addr': '10.0.2.5', 'ip.src_host': '10.0.2.7', 'ip.host': '10.0.2.5', 'ip.dst': '10.0.2.5', 'ip.dst_host': '10.0.2.5'}, 'icmp': {'icmp.type': '8', 'icmp.code': '0', 'icmp.checksum': '0xc5e1', 'icmp.checksum.status': '1', 'icmp.ident': '55298', 'icmp.ident_le': '728', 'icmp.seq': '6', 'icmp.seq_le': '1536', 'icmp.data_time': 'May 28, 2024 15:36:58.000000000 EDT', 'icmp.data_time_relative': '0.698894427', 'data': {'data.data': 'e0:a9:0a:00:00:00:00:00:10:11:12:13:14:15:16:17:18:19:1a:1b:1c:1d:1e:1f:20:21:22:23:24:25:26:27:28:29:2a:2b:2c:2d:2e:2f:30:31:32:33:34:35:36:37', 'data.len': '48'}}}}}\n",
      "{'_index': 'packets-2024-05-28', '_type': 'doc', '_score': None, '_source': {'layers': {'frame': {'frame.section_number': '1', 'frame.interface_id': '0', 'frame.interface_id_tree': {'frame.interface_name': 'eth0'}, 'frame.encap_type': '1', 'frame.time': 'May 28, 2024 15:36:59.005562066 EDT', 'frame.offset_shift': '0.000000000', 'frame.time_epoch': '1716925019.005562066', 'frame.time_delta': '0.306667639', 'frame.time_delta_displayed': '0.306667639', 'frame.time_relative': '7.342422196', 'frame.number': '9', 'frame.len': '42', 'frame.cap_len': '42', 'frame.marked': '0', 'frame.ignored': '0', 'frame.protocols': 'eth:ethertype:arp'}, 'eth': {'eth.dst': '08:00:27:ee:05:7f', 'eth.dst_tree': {'eth.dst_resolved': '08:00:27:ee:05:7f', 'eth.dst.oui': '524327', 'eth.addr': '08:00:27:ee:05:7f', 'eth.addr_resolved': '08:00:27:ee:05:7f', 'eth.addr.oui': '524327', 'eth.dst.lg': '0', 'eth.lg': '0', 'eth.dst.ig': '0', 'eth.ig': '0'}, 'eth.src': '08:00:27:ef:f0:6e', 'eth.src_tree': {'eth.src_resolved': '08:00:27:ef:f0:6e', 'eth.src.oui': '524327', 'eth.addr': '08:00:27:ef:f0:6e', 'eth.addr_resolved': '08:00:27:ef:f0:6e', 'eth.addr.oui': '524327', 'eth.src.lg': '0', 'eth.lg': '0', 'eth.src.ig': '0', 'eth.ig': '0'}, 'eth.type': '0x0806'}, 'arp': {'arp.hw.type': '1', 'arp.proto.type': '0x0800', 'arp.hw.size': '6', 'arp.proto.size': '4', 'arp.opcode': '1', 'arp.src.hw_mac': '08:00:27:ef:f0:6e', 'arp.src.proto_ipv4': '10.0.2.7', 'arp.dst.hw_mac': '00:00:00:00:00:00', 'arp.dst.proto_ipv4': '10.0.2.5'}}}}\n",
      "{'_index': 'packets-2024-05-28', '_type': 'doc', '_score': None, '_source': {'layers': {'frame': {'frame.section_number': '1', 'frame.interface_id': '0', 'frame.interface_id_tree': {'frame.interface_name': 'eth0'}, 'frame.encap_type': '1', 'frame.time': 'May 28, 2024 15:36:59.726806877 EDT', 'frame.offset_shift': '0.000000000', 'frame.time_epoch': '1716925019.726806877', 'frame.time_delta': '0.721244811', 'frame.time_delta_displayed': '0.721244811', 'frame.time_relative': '8.063667007', 'frame.number': '10', 'frame.len': '98', 'frame.cap_len': '98', 'frame.marked': '0', 'frame.ignored': '0', 'frame.protocols': 'eth:ethertype:ip:icmp:data'}, 'eth': {'eth.dst': '08:00:27:ee:05:7f', 'eth.dst_tree': {'eth.dst_resolved': '08:00:27:ee:05:7f', 'eth.dst.oui': '524327', 'eth.addr': '08:00:27:ee:05:7f', 'eth.addr_resolved': '08:00:27:ee:05:7f', 'eth.addr.oui': '524327', 'eth.dst.lg': '0', 'eth.lg': '0', 'eth.dst.ig': '0', 'eth.ig': '0'}, 'eth.src': '08:00:27:ef:f0:6e', 'eth.src_tree': {'eth.src_resolved': '08:00:27:ef:f0:6e', 'eth.src.oui': '524327', 'eth.addr': '08:00:27:ef:f0:6e', 'eth.addr_resolved': '08:00:27:ef:f0:6e', 'eth.addr.oui': '524327', 'eth.src.lg': '0', 'eth.lg': '0', 'eth.src.ig': '0', 'eth.ig': '0'}, 'eth.type': '0x0800'}, 'ip': {'ip.version': '4', 'ip.hdr_len': '20', 'ip.dsfield': '0x00', 'ip.dsfield_tree': {'ip.dsfield.dscp': '0', 'ip.dsfield.ecn': '0'}, 'ip.len': '84', 'ip.id': '0x1cc6', 'ip.flags': '0x02', 'ip.flags_tree': {'ip.flags.rb': '0', 'ip.flags.df': '1', 'ip.flags.mf': '0'}, 'ip.frag_offset': '0', 'ip.ttl': '10', 'ip.proto': '1', 'ip.checksum': '0x3bd8', 'ip.checksum.status': '2', 'ip.src': '10.0.2.7', 'ip.addr': '10.0.2.5', 'ip.src_host': '10.0.2.7', 'ip.host': '10.0.2.5', 'ip.dst': '10.0.2.5', 'ip.dst_host': '10.0.2.5'}, 'icmp': {'icmp.type': '8', 'icmp.code': '0', 'icmp.checksum': '0xb273', 'icmp.checksum.status': '1', 'icmp.ident': '55298', 'icmp.ident_le': '728', 'icmp.seq': '7', 'icmp.seq_le': '1792', 'icmp.data_time': 'May 28, 2024 15:36:59.000000000 EDT', 'icmp.data_time_relative': '0.726806877', 'data': {'data.data': 'f2:16:0b:00:00:00:00:00:10:11:12:13:14:15:16:17:18:19:1a:1b:1c:1d:1e:1f:20:21:22:23:24:25:26:27:28:29:2a:2b:2c:2d:2e:2f:30:31:32:33:34:35:36:37', 'data.len': '48'}}}}}\n",
      "{'_index': 'packets-2024-05-28', '_type': 'doc', '_score': None, '_source': {'layers': {'frame': {'frame.section_number': '1', 'frame.interface_id': '0', 'frame.interface_id_tree': {'frame.interface_name': 'eth0'}, 'frame.encap_type': '1', 'frame.time': 'May 28, 2024 15:37:00.014068964 EDT', 'frame.offset_shift': '0.000000000', 'frame.time_epoch': '1716925020.014068964', 'frame.time_delta': '0.287262087', 'frame.time_delta_displayed': '0.287262087', 'frame.time_relative': '8.350929094', 'frame.number': '11', 'frame.len': '42', 'frame.cap_len': '42', 'frame.marked': '0', 'frame.ignored': '0', 'frame.protocols': 'eth:ethertype:arp'}, 'eth': {'eth.dst': '08:00:27:ee:05:7f', 'eth.dst_tree': {'eth.dst_resolved': '08:00:27:ee:05:7f', 'eth.dst.oui': '524327', 'eth.addr': '08:00:27:ee:05:7f', 'eth.addr_resolved': '08:00:27:ee:05:7f', 'eth.addr.oui': '524327', 'eth.dst.lg': '0', 'eth.lg': '0', 'eth.dst.ig': '0', 'eth.ig': '0'}, 'eth.src': '08:00:27:ef:f0:6e', 'eth.src_tree': {'eth.src_resolved': '08:00:27:ef:f0:6e', 'eth.src.oui': '524327', 'eth.addr': '08:00:27:ef:f0:6e', 'eth.addr_resolved': '08:00:27:ef:f0:6e', 'eth.addr.oui': '524327', 'eth.src.lg': '0', 'eth.lg': '0', 'eth.src.ig': '0', 'eth.ig': '0'}, 'eth.type': '0x0806'}, 'arp': {'arp.hw.type': '1', 'arp.proto.type': '0x0800', 'arp.hw.size': '6', 'arp.proto.size': '4', 'arp.opcode': '1', 'arp.src.hw_mac': '08:00:27:ef:f0:6e', 'arp.src.proto_ipv4': '10.0.2.7', 'arp.dst.hw_mac': '00:00:00:00:00:00', 'arp.dst.proto_ipv4': '10.0.2.5'}}}}\n",
      "{'_index': 'packets-2024-05-28', '_type': 'doc', '_score': None, '_source': {'layers': {'frame': {'frame.section_number': '1', 'frame.interface_id': '0', 'frame.interface_id_tree': {'frame.interface_name': 'eth0'}, 'frame.encap_type': '1', 'frame.time': 'May 28, 2024 15:37:00.750818948 EDT', 'frame.offset_shift': '0.000000000', 'frame.time_epoch': '1716925020.750818948', 'frame.time_delta': '0.736749984', 'frame.time_delta_displayed': '0.736749984', 'frame.time_relative': '9.087679078', 'frame.number': '12', 'frame.len': '98', 'frame.cap_len': '98', 'frame.marked': '0', 'frame.ignored': '0', 'frame.protocols': 'eth:ethertype:ip:icmp:data'}, 'eth': {'eth.dst': '08:00:27:ee:05:7f', 'eth.dst_tree': {'eth.dst_resolved': '08:00:27:ee:05:7f', 'eth.dst.oui': '524327', 'eth.addr': '08:00:27:ee:05:7f', 'eth.addr_resolved': '08:00:27:ee:05:7f', 'eth.addr.oui': '524327', 'eth.dst.lg': '0', 'eth.lg': '0', 'eth.dst.ig': '0', 'eth.ig': '0'}, 'eth.src': '08:00:27:ef:f0:6e', 'eth.src_tree': {'eth.src_resolved': '08:00:27:ef:f0:6e', 'eth.src.oui': '524327', 'eth.addr': '08:00:27:ef:f0:6e', 'eth.addr_resolved': '08:00:27:ef:f0:6e', 'eth.addr.oui': '524327', 'eth.src.lg': '0', 'eth.lg': '0', 'eth.src.ig': '0', 'eth.ig': '0'}, 'eth.type': '0x0800'}, 'ip': {'ip.version': '4', 'ip.hdr_len': '20', 'ip.dsfield': '0x00', 'ip.dsfield_tree': {'ip.dsfield.dscp': '0', 'ip.dsfield.ecn': '0'}, 'ip.len': '84', 'ip.id': '0x1d75', 'ip.flags': '0x02', 'ip.flags_tree': {'ip.flags.rb': '0', 'ip.flags.df': '1', 'ip.flags.mf': '0'}, 'ip.frag_offset': '0', 'ip.ttl': '10', 'ip.proto': '1', 'ip.checksum': '0x3b29', 'ip.checksum.status': '2', 'ip.src': '10.0.2.7', 'ip.addr': '10.0.2.5', 'ip.src_host': '10.0.2.7', 'ip.host': '10.0.2.5', 'ip.dst': '10.0.2.5', 'ip.dst_host': '10.0.2.5'}, 'icmp': {'icmp.type': '8', 'icmp.code': '0', 'icmp.checksum': '0xe814', 'icmp.checksum.status': '1', 'icmp.ident': '55298', 'icmp.ident_le': '728', 'icmp.seq': '8', 'icmp.seq_le': '2048', 'icmp.data_time': 'May 28, 2024 15:37:00.000000000 EDT', 'icmp.data_time_relative': '0.750818948', 'data': {'data.data': 'bb:74:0b:00:00:00:00:00:10:11:12:13:14:15:16:17:18:19:1a:1b:1c:1d:1e:1f:20:21:22:23:24:25:26:27:28:29:2a:2b:2c:2d:2e:2f:30:31:32:33:34:35:36:37', 'data.len': '48'}}}}}\n",
      "{'_index': 'packets-2024-05-28', '_type': 'doc', '_score': None, '_source': {'layers': {'frame': {'frame.section_number': '1', 'frame.interface_id': '0', 'frame.interface_id_tree': {'frame.interface_name': 'eth0'}, 'frame.encap_type': '1', 'frame.time': 'May 28, 2024 15:37:01.036332609 EDT', 'frame.offset_shift': '0.000000000', 'frame.time_epoch': '1716925021.036332609', 'frame.time_delta': '0.285513661', 'frame.time_delta_displayed': '0.285513661', 'frame.time_relative': '9.373192739', 'frame.number': '13', 'frame.len': '42', 'frame.cap_len': '42', 'frame.marked': '0', 'frame.ignored': '0', 'frame.protocols': 'eth:ethertype:arp'}, 'eth': {'eth.dst': '08:00:27:ee:05:7f', 'eth.dst_tree': {'eth.dst_resolved': '08:00:27:ee:05:7f', 'eth.dst.oui': '524327', 'eth.addr': '08:00:27:ee:05:7f', 'eth.addr_resolved': '08:00:27:ee:05:7f', 'eth.addr.oui': '524327', 'eth.dst.lg': '0', 'eth.lg': '0', 'eth.dst.ig': '0', 'eth.ig': '0'}, 'eth.src': '08:00:27:ef:f0:6e', 'eth.src_tree': {'eth.src_resolved': '08:00:27:ef:f0:6e', 'eth.src.oui': '524327', 'eth.addr': '08:00:27:ef:f0:6e', 'eth.addr_resolved': '08:00:27:ef:f0:6e', 'eth.addr.oui': '524327', 'eth.src.lg': '0', 'eth.lg': '0', 'eth.src.ig': '0', 'eth.ig': '0'}, 'eth.type': '0x0806'}, 'arp': {'arp.hw.type': '1', 'arp.proto.type': '0x0800', 'arp.hw.size': '6', 'arp.proto.size': '4', 'arp.opcode': '1', 'arp.src.hw_mac': '08:00:27:ef:f0:6e', 'arp.src.proto_ipv4': '10.0.2.7', 'arp.dst.hw_mac': '00:00:00:00:00:00', 'arp.dst.proto_ipv4': '10.0.2.5'}}}}\n"
     ]
    }
   ],
   "source": [
    "import json\n",
    "import pandas as pd\n",
    "\n",
    "with open('output.json') as f:\n",
    "    packets = json.load(f)\n",
    "\n",
    "\n",
    "data = []\n",
    "\n",
    "for packet in packets:\n",
    "    try:\n",
    "        layers = packet['_source']['layers']\n",
    "        frame_info = layers['frame']\n",
    "\n",
    "        flow_duration = int(frame_info['frame.time_delta_displayed'])\n",
    "        header_length = int(frame_info['frame.len'])\n",
    "        protocol_type = layers['ip']['ip.proto']\n",
    "        duration = int(frame_info['frame.time_epoch'])\n",
    "        rate = 0  # Hesaplanmalı\n",
    "        srate = 0  # Hesaplanmalı\n",
    "        drate = 0  # Hesaplanmalı\n",
    "        fin_flag_number = int(layers['tcp']['tcp.flags.fin'])\n",
    "        syn_flag_number = int(layers['tcp']['tcp.flags.syn'])\n",
    "        rst_flag_number = int(layers['tcp']['tcp.flags.reset'])\n",
    "        psh_flag_number = int(layers['tcp']['tcp.flags.push'])\n",
    "        ack_flag_number = int(layers['tcp']['tcp.flags.ack'])\n",
    "        ece_flag_number = int(layers['tcp']['tcp.flags.ece'])\n",
    "        cwr_flag_number = int(layers['tcp']['tcp.flags.cwr'])\n",
    "        ack_count = int(layers['tcp']['tcp.ack'])\n",
    "        syn_count = int(layers['tcp']['tcp.flags.syn'])\n",
    "        fin_count = int(layers['tcp']['tcp.flags.fin'])\n",
    "        urg_count = int(layers['tcp']['tcp.flags.urg'])\n",
    "        rst_count = int(layers['tcp']['tcp.flags.reset'])\n",
    "        http = int('http' in layers)\n",
    "        https = int('ssl' in layers)\n",
    "        dns = int('dns' in layers)\n",
    "        telnet = int('telnet' in layers)\n",
    "        smtp = int('smtp' in layers)\n",
    "        ssh = int('ssh' in layers)\n",
    "        irc = int('irc' in layers)\n",
    "        tcp = int('tcp' in layers)\n",
    "        udp = int('udp' in layers)\n",
    "        dhcp = int('bootp' in layers)\n",
    "        arp = int('arp' in layers)\n",
    "        icmp = int('icmp' in layers)\n",
    "        ipv = int('ip' in layers)\n",
    "        llc = int('llc' in layers)\n",
    "        tot_sum = 0  # Hesaplanmalı\n",
    "        min_val = 0  # Hesaplanmalı\n",
    "        max_val = 0  # Hesaplanmalı\n",
    "        avg = 0  # Hesaplanmalı\n",
    "        std = 0  # Hesaplanmalı\n",
    "        tot_size = int(frame_info['frame.len'])\n",
    "        iat = int(frame_info['frame.time_delta'])\n",
    "        number = int(frame_info['frame.number'])\n",
    "        magnitude = 0  # Hesaplanmalı\n",
    "        radius = 0  # Hesaplanmalı\n",
    "        covariance = 0  # Hesaplanmalı\n",
    "        variance = 0  # Hesaplanmalı\n",
    "        weight = 0  # Hesaplanmalı\n",
    "        label = 0  # Belirtilmeli\n",
    "\n",
    "        data.append([\n",
    "            flow_duration, header_length, protocol_type, duration, rate, srate, drate, fin_flag_number, syn_flag_number,\n",
    "            rst_flag_number, psh_flag_number, ack_flag_number, ece_flag_number, cwr_flag_number, ack_count, syn_count,\n",
    "            fin_count, urg_count, rst_count, http, https, dns, telnet, smtp, ssh, irc, tcp, udp, dhcp, arp, icmp, ipv,\n",
    "            llc, tot_sum, min_val, max_val, avg, std, tot_size, iat, number, magnitude, radius, covariance, variance,\n",
    "            weight, label\n",
    "        ])\n",
    "    except KeyError as e:\n",
    "        print(f'Missing key: {e}')\n",
    "\n",
    "columns = [\n",
    "    'flow_duration', 'Header_Length', 'Protocol Type', 'Duration', 'Rate', 'Srate', 'Drate', 'fin_flag_number',\n",
    "    'syn_flag_number', 'rst_flag_number', 'psh_flag_number', 'ack_flag_number', 'ece_flag_number', 'cwr_flag_number',\n",
    "    'ack_count', 'syn_count', 'fin_count', 'urg_count', 'rst_count', 'HTTP', 'HTTPS', 'DNS', 'Telnet', 'SMTP', 'SSH',\n",
    "    'IRC', 'TCP', 'UDP', 'DHCP', 'ARP', 'ICMP', 'IPv', 'LLC', 'Tot sum', 'Min', 'Max', 'AVG', 'Std', 'Tot size', 'IAT',\n",
    "    'Number', 'Magnitue', 'Radius', 'Covariance', 'Variance', 'Weight', 'label'\n",
    "]\n",
    "df = pd.DataFrame(data, columns=columns)\n",
    "\n",
    "print(df.head())\n"
   ]
  },
  {
   "cell_type": "code",
   "execution_count": 5,
   "metadata": {},
   "outputs": [
    {
     "data": {
      "text/plain": [
       "47"
      ]
     },
     "execution_count": 5,
     "metadata": {},
     "output_type": "execute_result"
    }
   ],
   "source": [
    "data = [\n",
    "    0.0, 54.0, 6.0, 64.0, 0.3298071530725829, \n",
    "    0.3298071530725829, 0.0, 1.0, 0.0,\n",
    "    1.0, 0.0, 0.0, \n",
    "    0.0, 0.0, 1.0, 0.0, 1.0, \n",
    "    0.0, 0.0, 0.0,\n",
    "    0.0, 0.0, 0.0, 0.0, \n",
    "    0.0, 0.0, 1.0, 0.0, 0.0, 0.0, 0.0, 1.0, 1.0,\n",
    "    567.0, 54.0, 54.0, 54.0, 0.0, 54.0, 83343831.92013878, 9.5, \n",
    "    10.392304845413264, 0.0, 0.0, 0.0, 141.55, 'DDoS-RSTFINFlood'\n",
    "]\n",
    "\n",
    "['flow_duration', 'Header_Length', 'Protocol Type', 'Duration', 'Rate',\n",
    "       'Srate', 'Drate', 'fin_flag_number', 'syn_flag_number',\n",
    "       'rst_flag_number', 'psh_flag_number', 'ack_flag_number',\n",
    "       'ece_flag_number', 'cwr_flag_number', 'ack_count', 'syn_count',\n",
    "       'fin_count', 'urg_count', 'rst_count', 'HTTP', 'HTTPS', 'DNS', 'Telnet',\n",
    "       'SMTP', 'SSH', 'IRC', 'TCP', 'UDP', 'DHCP', 'ARP', 'ICMP', 'IPv', 'LLC',\n",
    "       'Tot sum', 'Min', 'Max', 'AVG', 'Std', 'Tot size', 'IAT', 'Number',\n",
    "       'Magnitue', 'Radius', 'Covariance', 'Variance', 'Weight', 'label'],\n",
    "\n",
    "len(data)\n"
   ]
  }
 ],
 "metadata": {
  "kernelspec": {
   "display_name": "Python 3",
   "language": "python",
   "name": "python3"
  },
  "language_info": {
   "codemirror_mode": {
    "name": "ipython",
    "version": 3
   },
   "file_extension": ".py",
   "mimetype": "text/x-python",
   "name": "python",
   "nbconvert_exporter": "python",
   "pygments_lexer": "ipython3",
   "version": "3.11.8"
  }
 },
 "nbformat": 4,
 "nbformat_minor": 2
}
