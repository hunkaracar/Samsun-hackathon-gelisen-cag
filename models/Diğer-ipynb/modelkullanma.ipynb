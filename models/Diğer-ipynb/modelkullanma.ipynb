{
 "cells": [
  {
   "cell_type": "code",
   "execution_count": 7,
   "metadata": {},
   "outputs": [
    {
     "name": "stdout",
     "output_type": "stream",
     "text": [
      "Tahmin edilen değer: [10]\n"
     ]
    }
   ],
   "source": [
    "import numpy as np\n",
    "import pandas as pd\n",
    "import joblib\n",
    "\n",
    "# Değerleri listeye atama\n",
    "values = [\n",
    "    0.000000e+00,  # flow_duration\n",
    "    5.400000e+01,  # Header_Length\n",
    "    6.000000e+00,  # Protocol Type\n",
    "    5.708105e+00,  # Rate\n",
    "    0.000000e+00,  # fin_flag_number\n",
    "    0.000000e+00,  # syn_flag_number\n",
    "    0.000000e+00,  # rst_flag_number\n",
    "    0.000000e+00,  # psh_flag_number\n",
    "    0.000000e+00,  # ack_count\n",
    "    0.000000e+00,  # syn_count\n",
    "    0.000000e+00,  # fin_count\n",
    "    0.000000e+00,  # urg_count\n",
    "    0.000000e+00,  # rst_count\n",
    "    0.000000e+00,  # HTTP\n",
    "    0.000000e+00,  # HTTPS\n",
    "    0.000000e+00,  # SSH\n",
    "    0.000000e+00,  # UDP\n",
    "    0.000000e+00,  # ICMP\n",
    "    5.670000e+02,  # Tot sum\n",
    "    5.400000e+01,  # Min\n",
    "    5.400000e+01,  # Tot size\n",
    "    8.306424e+07,  # IAT\n",
    "    9.500000e+00,  # Number\n",
    "    1.039230e+01,  # Magnitue\n",
    "    1.415500e+02   # Weight\n",
    "]\n",
    "\n",
    "values_array = np.array(values).reshape(1, -1)\n",
    "\n",
    "model = joblib.load('model.pkl')\n",
    "\n",
    "y_pred = model.predict(values_array)\n",
    "\n",
    "print(\"Tahmin edilen değer:\", y_pred)\n"
   ]
  },
  {
   "cell_type": "code",
   "execution_count": null,
   "metadata": {},
   "outputs": [],
   "source": []
  }
 ],
 "metadata": {
  "kernelspec": {
   "display_name": "Python 3",
   "language": "python",
   "name": "python3"
  },
  "language_info": {
   "codemirror_mode": {
    "name": "ipython",
    "version": 3
   },
   "file_extension": ".py",
   "mimetype": "text/x-python",
   "name": "python",
   "nbconvert_exporter": "python",
   "pygments_lexer": "ipython3",
   "version": "3.11.8"
  }
 },
 "nbformat": 4,
 "nbformat_minor": 2
}
