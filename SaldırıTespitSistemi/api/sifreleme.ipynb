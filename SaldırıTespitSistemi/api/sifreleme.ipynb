{
 "cells": [
  {
   "cell_type": "markdown",
   "metadata": {},
   "source": [
    "# Sifreleme"
   ]
  },
  {
   "cell_type": "code",
   "execution_count": 1,
   "metadata": {},
   "outputs": [],
   "source": [
    "y_metin = {\n",
    "    -14: 'a', \n",
    "    -13: 'b', \n",
    "    -12: 'c',  \n",
    "    -11: 'ç', \n",
    "    -10: 'd', \n",
    "    -9: 'e',\n",
    "    -8: 'f',\n",
    "    -7: 'g',  \n",
    "    -6: 'ğ',\n",
    "    -5: 'h',  \n",
    "    -4: 'ı',  \n",
    "    -3: 'i', \n",
    "    -2: 'j', \n",
    "    -1: 'k', \n",
    "     0: 'l', \n",
    "     1: 'm', \n",
    "     2: 'n', \n",
    "     3: 'o', \n",
    "     4: 'ö', \n",
    "     5: 'p', \n",
    "     6: 'r',  \n",
    "     7: 's', \n",
    "     8: 'ş',  \n",
    "     9: 't', \n",
    "     10: 'u',  \n",
    "    11: 'ü', \n",
    "    12: 'v', \n",
    "    13: 'y', \n",
    "    14: 'z', \n",
    "}\n",
    "\n",
    "x_anahtar = { \n",
    "    14: 'a', \n",
    "    13: 'b', \n",
    "    12: 'c',  \n",
    "    11: 'ç', \n",
    "    10: 'd', \n",
    "    9: 'e',\n",
    "    8: 'f',\n",
    "    7: 'g',  \n",
    "    6: 'ğ',\n",
    "    5: 'h',  \n",
    "    4: 'ı',  \n",
    "    3: 'i', \n",
    "    2: 'j', \n",
    "    1: 'k', \n",
    "    0: 'l', \n",
    "    -1: 'm', \n",
    "    -2: 'n', \n",
    "    -3: 'o', \n",
    "    -4: 'ö', \n",
    "    -5: 'p', \n",
    "    -6: 'r',  \n",
    "    -7: 's', \n",
    "    -8: 'ş',  \n",
    "    -9: 't', \n",
    "    -10: 'u',  \n",
    "    -11: 'ü', \n",
    "    -12: 'v', \n",
    "    -13: 'y', \n",
    "    -14: 'z', \n",
    "}\n",
    "\n",
    "alfabe = ['a', 'b', 'c', 'ç', 'd', 'e', 'f', 'g', 'ğ', 'h', 'ı', 'i', 'j', 'k', 'l', 'm', 'n', 'o', 'ö', 'p', 'r', 's', 'ş', 't', 'u', 'ü', 'v', 'y', 'z']\n"
   ]
  },
  {
   "cell_type": "code",
   "execution_count": 2,
   "metadata": {},
   "outputs": [
    {
     "data": {
      "text/plain": [
       "12"
      ]
     },
     "execution_count": 2,
     "metadata": {},
     "output_type": "execute_result"
    }
   ],
   "source": [
    "metin=\"rötuş\"\n",
    "anahtar = \"hedef\"\n",
    "\n",
    "anahtar_top=0\n",
    "\n",
    "\n",
    "for i in anahtar:\n",
    "    for key,value in x_anahtar.items():\n",
    "        if value == i:\n",
    "            anahtar_top = key + anahtar_top\n",
    "            break\n",
    "anahtar_top_mod = anahtar_top % 29\n",
    "anahtar_top_mod"
   ]
  },
  {
   "cell_type": "code",
   "execution_count": 3,
   "metadata": {},
   "outputs": [
    {
     "data": {
      "text/plain": [
       "'hedef'"
      ]
     },
     "execution_count": 3,
     "metadata": {},
     "output_type": "execute_result"
    }
   ],
   "source": [
    "if len(metin) > len(anahtar):\n",
    "    new_anahtar = anahtar\n",
    "    fark = len(metin) - len(anahtar)\n",
    "    for i in range(0,fark):\n",
    "        new_anahtar = new_anahtar + anahtar[i]\n",
    "elif len(metin) == len(anahtar):\n",
    "    new_anahtar = anahtar\n",
    "else:\n",
    "    print(\"zekamız yetmedi\")\n",
    "new_anahtar"
   ]
  },
  {
   "cell_type": "code",
   "execution_count": 4,
   "metadata": {},
   "outputs": [],
   "source": [
    "m1 = []\n",
    "a1 = []\n",
    "t1 = []  #  a1 + m1\n",
    "c2 = []  # 10 + 11 , 10 + -4\n",
    "c3 = [] #mod almadan önceki hali\n",
    "\n",
    "for i in new_anahtar:\n",
    "    for key,value in x_anahtar.items():\n",
    "        if value == i:\n",
    "            a1.append(key)\n",
    "            \n",
    "            \n",
    "for i in metin:\n",
    "    for key,value in y_metin.items():\n",
    "        if value == i:\n",
    "            m1.append(key)\n",
    "            break"
   ]
  },
  {
   "cell_type": "code",
   "execution_count": 5,
   "metadata": {},
   "outputs": [],
   "source": [
    "c2 = [0] * len(a1)\n",
    "\n",
    "for i in range(len(a1)):\n",
    "    c2[i] = a1[i] + anahtar_top_mod\n"
   ]
  },
  {
   "cell_type": "code",
   "execution_count": 6,
   "metadata": {},
   "outputs": [
    {
     "data": {
      "text/plain": [
       "[11, 13, 19, 19, 16]"
      ]
     },
     "execution_count": 6,
     "metadata": {},
     "output_type": "execute_result"
    }
   ],
   "source": [
    "t1 = [a + c for a, c in zip(a1, m1)]\n",
    "t1"
   ]
  },
  {
   "cell_type": "code",
   "execution_count": 8,
   "metadata": {},
   "outputs": [
    {
     "data": {
      "text/plain": [
       "[13, 12, 12, 22, 1]"
      ]
     },
     "execution_count": 8,
     "metadata": {},
     "output_type": "execute_result"
    }
   ],
   "source": [
    "c3 = [(a * c) % 29 for a, c in zip(t1, c2)]\n",
    "\n",
    "c3"
   ]
  },
  {
   "cell_type": "code",
   "execution_count": 9,
   "metadata": {},
   "outputs": [],
   "source": [
    "encrypted_text = ' '\n",
    "for i in c3:\n",
    "    encrypted_text += alfabe[i]"
   ]
  },
  {
   "cell_type": "code",
   "execution_count": 12,
   "metadata": {},
   "outputs": [
    {
     "data": {
      "text/plain": [
       "'bşjjk '"
      ]
     },
     "execution_count": 12,
     "metadata": {},
     "output_type": "execute_result"
    }
   ],
   "source": [
    "encrypted_text"
   ]
  },
  {
   "cell_type": "code",
   "execution_count": 11,
   "metadata": {},
   "outputs": [
    {
     "name": "stdout",
     "output_type": "stream",
     "text": [
      "anahtar çift sayıdır\n"
     ]
    }
   ],
   "source": [
    "# en son\n",
    "if (anahtar_top % 29) % 2 == 0:\n",
    "    print(\"anahtar çift sayıdır\")\n",
    "    encrypted_text = encrypted_text[::-1]\n",
    "else:\n",
    "    print(\"anahtar tek sayıdır\")\n",
    "    encrypted_text =  encrypted_text[-1] + encrypted_text[1:-1] + encrypted_text[0]"
   ]
  }
 ],
 "metadata": {
  "kernelspec": {
   "display_name": "Python 3",
   "language": "python",
   "name": "python3"
  },
  "language_info": {
   "codemirror_mode": {
    "name": "ipython",
    "version": 3
   },
   "file_extension": ".py",
   "mimetype": "text/x-python",
   "name": "python",
   "nbconvert_exporter": "python",
   "pygments_lexer": "ipython3",
   "version": "3.11.8"
  }
 },
 "nbformat": 4,
 "nbformat_minor": 2
}
